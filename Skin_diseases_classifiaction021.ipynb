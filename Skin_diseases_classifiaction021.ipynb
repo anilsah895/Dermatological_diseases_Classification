{
  "nbformat": 4,
  "nbformat_minor": 0,
  "metadata": {
    "colab": {
      "name": "Skin_diseases_classifiaction02.ipynb",
      "version": "0.3.2",
      "provenance": [],
      "collapsed_sections": [],
      "include_colab_link": true
    },
    "kernelspec": {
      "name": "python3",
      "display_name": "Python 3"
    },
    "accelerator": "GPU"
  },
  "cells": [
    {
      "cell_type": "markdown",
      "metadata": {
        "id": "view-in-github",
        "colab_type": "text"
      },
      "source": [
        "<a href=\"https://colab.research.google.com/github/anilsah895/skin_diseases_detection/blob/master/Skin_diseases_classifiaction021.ipynb\" target=\"_parent\"><img src=\"https://colab.research.google.com/assets/colab-badge.svg\" alt=\"Open In Colab\"/></a>"
      ]
    },
    {
      "cell_type": "code",
      "metadata": {
        "id": "yTZnHRoPGLVr",
        "colab_type": "code",
        "outputId": "2d5f00be-84e5-4df4-cbee-bd0de9e17d9f",
        "colab": {
          "base_uri": "https://localhost:8080/",
          "height": 122
        }
      },
      "source": [
        "from google.colab import drive\n",
        "drive.mount('/content/gdrive')"
      ],
      "execution_count": 1,
      "outputs": [
        {
          "output_type": "stream",
          "text": [
            "Go to this URL in a browser: https://accounts.google.com/o/oauth2/auth?client_id=947318989803-6bn6qk8qdgf4n4g3pfee6491hc0brc4i.apps.googleusercontent.com&redirect_uri=urn%3Aietf%3Awg%3Aoauth%3A2.0%3Aoob&scope=email%20https%3A%2F%2Fwww.googleapis.com%2Fauth%2Fdocs.test%20https%3A%2F%2Fwww.googleapis.com%2Fauth%2Fdrive%20https%3A%2F%2Fwww.googleapis.com%2Fauth%2Fdrive.photos.readonly%20https%3A%2F%2Fwww.googleapis.com%2Fauth%2Fpeopleapi.readonly&response_type=code\n",
            "\n",
            "Enter your authorization code:\n",
            "··········\n",
            "Mounted at /content/gdrive\n"
          ],
          "name": "stdout"
        }
      ]
    },
    {
      "cell_type": "code",
      "metadata": {
        "id": "6oCrlm_iR6A_",
        "colab_type": "code",
        "colab": {
          "base_uri": "https://localhost:8080/",
          "height": 34
        },
        "outputId": "2945e1b3-0941-496f-f67a-efc6866346ad"
      },
      "source": [
        "import os\n",
        "import numpy as np\n",
        "import keras\n",
        "from keras.models import Sequential\n",
        "from keras.layers import Activation, Dropout, Flatten, Dense\n",
        "from keras.preprocessing.image import ImageDataGenerator\n",
        "from keras.layers import Convolution2D, MaxPooling2D, ZeroPadding2D\n",
        "from keras import optimizers\n",
        "import scipy.ndimage\n",
        "from keras.layers import Convolution2D as Conv2D\n",
        "from keras.models import Input,Model"
      ],
      "execution_count": 2,
      "outputs": [
        {
          "output_type": "stream",
          "text": [
            "Using TensorFlow backend.\n"
          ],
          "name": "stderr"
        }
      ]
    },
    {
      "cell_type": "code",
      "metadata": {
        "id": "DDQsd2GAUUjJ",
        "colab_type": "code",
        "colab": {}
      },
      "source": [
        "Base_dir=\"gdrive/My Drive/Colab Notebooks/Skin_Data1/\"\n",
        "train_path = Base_dir+\"train\"\n",
        "validation_path = Base_dir+\"validation\"\n"
      ],
      "execution_count": 0,
      "outputs": []
    },
    {
      "cell_type": "code",
      "metadata": {
        "id": "771xPI0BLo-5",
        "colab_type": "code",
        "colab": {}
      },
      "source": [
        "input_shape = (150, 150, 3)\n",
        "\n",
        "#Instantiate an empty model\n",
        "model = Sequential([\n",
        "Conv2D(64, (3, 3), input_shape=input_shape, padding='same', activation='relu'),\n",
        "Conv2D(64, (3, 3), activation='relu', padding='same'),\n",
        "MaxPooling2D(pool_size=(2, 2), strides=(2, 2)),\n",
        "Dropout(0.25),\n",
        "Conv2D(128, (3, 3), activation='relu', padding='same'),\n",
        "Conv2D(128, (3, 3), activation='relu', padding='same'),\n",
        "MaxPooling2D(pool_size=(2, 2), strides=(2, 2)),\n",
        "Dropout(0.25),\n",
        "Conv2D(256, (3, 3), activation='relu', padding='same'),\n",
        "Conv2D(256, (3, 3), activation='relu', padding='same',),\n",
        "Conv2D(256, (3, 3), activation='relu', padding='same'),\n",
        "MaxPooling2D(pool_size=(2, 2), strides=(2, 2)),\n",
        "Dropout(0.25),\n",
        "Conv2D(512, (3, 3), activation='relu', padding='same'),\n",
        "Conv2D(512, (3, 3), activation='relu', padding='same'),\n",
        "Conv2D(512, (3, 3), activation='relu', padding='same'),\n",
        "MaxPooling2D(pool_size=(2, 2), strides=(2, 2)),\n",
        "Dropout(0.5),\n",
        "Conv2D(512, (3, 3), activation='relu', padding='same'),\n",
        "Conv2D(512, (3, 3), activation='relu', padding='same'),\n",
        "Conv2D(512, (3, 3), activation='relu', padding='same'),\n",
        "MaxPooling2D(pool_size=(2, 2), strides=(2, 2)),\n",
        "Dropout(0.5),\n",
        "Flatten(),\n",
        "Dense(4096, activation='relu'),\n",
        "Dense(1000, activation='relu'),\n",
        "Dense(10, activation='softmax')\n",
        "])\n",
        "\n",
        "#model.summary()\n",
        "\n",
        "# Compile the model\n",
        "model.compile(loss=keras.losses.categorical_crossentropy, optimizer='adam', metrics=['accuracy'])\n",
        "with open(\"FILE.text\",\"w\") as fh:\n",
        "  model.summary(print_fn=lambda line: fh.write(line + \"\\n\"))"
      ],
      "execution_count": 0,
      "outputs": []
    },
    {
      "cell_type": "code",
      "metadata": {
        "id": "qK0dtMeWUci-",
        "colab_type": "code",
        "outputId": "9575dfb2-b177-4262-e5a9-e0f3af92f21e",
        "colab": {
          "base_uri": "https://localhost:8080/",
          "height": 54
        }
      },
      "source": [
        "\"\"\"\"from keras.applications import VGG16\n",
        "#Load the VGG model\n",
        "vgg_conv = VGG16(weights='imagenet', include_top=False, input_shape=(128, 128, 3))\"\"\"\n"
      ],
      "execution_count": 0,
      "outputs": [
        {
          "output_type": "execute_result",
          "data": {
            "text/plain": [
              "'\"from keras.applications import VGG16\\n#Load the VGG model\\nvgg_conv = VGG16(weights=\\'imagenet\\', include_top=False, input_shape=(128, 128, 3))'"
            ]
          },
          "metadata": {
            "tags": []
          },
          "execution_count": 15
        }
      ]
    },
    {
      "cell_type": "code",
      "metadata": {
        "id": "dElVShjsNaa9",
        "colab_type": "code",
        "colab": {}
      },
      "source": [
        "import tensorflow as tf"
      ],
      "execution_count": 0,
      "outputs": []
    },
    {
      "cell_type": "code",
      "metadata": {
        "id": "6yavvGbMKVuT",
        "colab_type": "code",
        "colab": {}
      },
      "source": [
        "# Define a Callback class that stops training once accuracy reaches 99.9%\n",
        "class myCallback(tf.keras.callbacks.Callback):\n",
        "  def on_epoch_end(self, epoch, logs={}):\n",
        "    if(logs.get('val_acc')>0.75):\n",
        "      print(\"\\nReached 85.0% accuracy so cancelling training!\")\n",
        "      self.model.stop_training = True\n",
        "      "
      ],
      "execution_count": 0,
      "outputs": []
    },
    {
      "cell_type": "code",
      "metadata": {
        "id": "JBW3vAJKUr8d",
        "colab_type": "code",
        "outputId": "00ee5d87-4cf9-46df-d5fa-9208849924e1",
        "colab": {
          "base_uri": "https://localhost:8080/",
          "height": 51
        }
      },
      "source": [
        "train_datagen = ImageDataGenerator(\n",
        "      rescale=1./255,\n",
        "      #featurewise_center=True,\n",
        "      #featurewise_std_normalization=True,\n",
        "      rotation_range=20,\n",
        "      width_shift_range=0.2,\n",
        "      height_shift_range=0.2,\n",
        "      shear_range = 0.2, \n",
        "      zoom_range = 0.2,\n",
        "      horizontal_flip=True,\n",
        "      fill_mode='nearest')\n",
        " \n",
        "validation_datagen = ImageDataGenerator(rescale=1./255)\n",
        " \n",
        "# Change the batchsize according to your system RAM\n",
        "train_batchsize = 160\n",
        "val_batchsize =40\n",
        " \n",
        "train_generator = train_datagen.flow_from_directory(\n",
        "        train_path,\n",
        "        target_size=(150,150 ),\n",
        "        batch_size=train_batchsize,\n",
        "        class_mode='categorical')\n",
        " \n",
        "validation_generator = validation_datagen.flow_from_directory(\n",
        "        validation_path,\n",
        "        target_size=(150, 150),\n",
        "        batch_size=val_batchsize,\n",
        "        class_mode='categorical',\n",
        "        shuffle=False)"
      ],
      "execution_count": 0,
      "outputs": [
        {
          "output_type": "stream",
          "text": [
            "Found 4400 images belonging to 10 classes.\n",
            "Found 1100 images belonging to 10 classes.\n"
          ],
          "name": "stdout"
        }
      ]
    },
    {
      "cell_type": "code",
      "metadata": {
        "id": "7VcOwXuMUzG_",
        "colab_type": "code",
        "outputId": "fcb45eff-a0b2-45d9-ca08-db554890919d",
        "colab": {
          "base_uri": "https://localhost:8080/",
          "height": 3437
        }
      },
      "source": [
        "# Compile the model\n",
        "model.compile(loss='categorical_crossentropy',\n",
        "              optimizer=optimizers.RMSprop(lr=1e-4,rho=0.9, epsilon=1e-08, decay=0.00001),\n",
        "              metrics=['acc'])\n",
        "# Train the model\n",
        "callbacks1 = myCallback()\n",
        "\n",
        ",\n",
        "                                          \n",
        "#early = EarlyStopping(monitor='val_acc', min_delta=0.01, patience=10, verbose=1, mode='auto')\n",
        "\n",
        "history = model.fit_generator(\n",
        "            train_generator,\n",
        "            validation_data = validation_generator,\n",
        "            steps_per_epoch =train_generator.samples/train_generator.batch_size,\n",
        "            epochs = 100,\n",
        "            validation_steps = validation_generator.samples/validation_generator.batch_size,\n",
        "            verbose = 1,\n",
        "            callbacks=[callbacks1])\n",
        "# Save the model\n",
        "model.save('vgg16.hdf5')"
      ],
      "execution_count": 0,
      "outputs": [
        {
          "output_type": "stream",
          "text": [
            "Epoch 1/100\n",
            "28/27 [==============================] - 79s 3s/step - loss: 2.4366 - acc: 0.1370 - val_loss: 2.2136 - val_acc: 0.1800\n",
            "Epoch 2/100\n",
            "28/27 [==============================] - 50s 2s/step - loss: 2.2249 - acc: 0.1699 - val_loss: 2.2044 - val_acc: 0.1845\n",
            "Epoch 3/100\n",
            "28/27 [==============================] - 57s 2s/step - loss: 2.2259 - acc: 0.1750 - val_loss: 2.1844 - val_acc: 0.1682\n",
            "Epoch 4/100\n",
            "28/27 [==============================] - 57s 2s/step - loss: 2.1469 - acc: 0.2054 - val_loss: 2.1984 - val_acc: 0.1527\n",
            "Epoch 5/100\n",
            "28/27 [==============================] - 56s 2s/step - loss: 2.1244 - acc: 0.2134 - val_loss: 2.0582 - val_acc: 0.2373\n",
            "Epoch 6/100\n",
            "28/27 [==============================] - 56s 2s/step - loss: 2.0855 - acc: 0.2239 - val_loss: 2.0924 - val_acc: 0.2227\n",
            "Epoch 7/100\n",
            "28/27 [==============================] - 56s 2s/step - loss: 2.1021 - acc: 0.2309 - val_loss: 2.0742 - val_acc: 0.2327\n",
            "Epoch 8/100\n",
            "28/27 [==============================] - 56s 2s/step - loss: 2.0439 - acc: 0.2449 - val_loss: 2.0290 - val_acc: 0.2618\n",
            "Epoch 9/100\n",
            "28/27 [==============================] - 56s 2s/step - loss: 2.0467 - acc: 0.2426 - val_loss: 2.0311 - val_acc: 0.2545\n",
            "Epoch 10/100\n",
            "28/27 [==============================] - 56s 2s/step - loss: 2.0181 - acc: 0.2558 - val_loss: 1.9930 - val_acc: 0.2809\n",
            "Epoch 11/100\n",
            "28/27 [==============================] - 56s 2s/step - loss: 1.9875 - acc: 0.2755 - val_loss: 2.0567 - val_acc: 0.2545\n",
            "Epoch 12/100\n",
            "28/27 [==============================] - 56s 2s/step - loss: 1.9686 - acc: 0.2804 - val_loss: 1.9797 - val_acc: 0.2909\n",
            "Epoch 13/100\n",
            "28/27 [==============================] - 56s 2s/step - loss: 1.9574 - acc: 0.2895 - val_loss: 2.0723 - val_acc: 0.2591\n",
            "Epoch 14/100\n",
            "28/27 [==============================] - 56s 2s/step - loss: 1.9351 - acc: 0.3020 - val_loss: 2.2893 - val_acc: 0.1673\n",
            "Epoch 15/100\n",
            "28/27 [==============================] - 57s 2s/step - loss: 1.9180 - acc: 0.3081 - val_loss: 1.9471 - val_acc: 0.3100\n",
            "Epoch 16/100\n",
            "28/27 [==============================] - 56s 2s/step - loss: 1.9109 - acc: 0.3047 - val_loss: 2.9215 - val_acc: 0.1109\n",
            "Epoch 17/100\n",
            "28/27 [==============================] - 56s 2s/step - loss: 1.8860 - acc: 0.3084 - val_loss: 3.0230 - val_acc: 0.1200\n",
            "Epoch 18/100\n",
            "28/27 [==============================] - 56s 2s/step - loss: 1.9017 - acc: 0.3040 - val_loss: 2.0504 - val_acc: 0.3082\n",
            "Epoch 19/100\n",
            "28/27 [==============================] - 56s 2s/step - loss: 1.8445 - acc: 0.3350 - val_loss: 1.9078 - val_acc: 0.3273\n",
            "Epoch 20/100\n",
            "28/27 [==============================] - 56s 2s/step - loss: 1.8457 - acc: 0.3344 - val_loss: 2.0808 - val_acc: 0.2536\n",
            "Epoch 21/100\n",
            "28/27 [==============================] - 56s 2s/step - loss: 1.8394 - acc: 0.3424 - val_loss: 2.1351 - val_acc: 0.2909\n",
            "Epoch 22/100\n",
            "28/27 [==============================] - 56s 2s/step - loss: 1.8165 - acc: 0.3485 - val_loss: 2.2688 - val_acc: 0.2818\n",
            "Epoch 23/100\n",
            "28/27 [==============================] - 56s 2s/step - loss: 1.8005 - acc: 0.3502 - val_loss: 1.8904 - val_acc: 0.3400\n",
            "Epoch 24/100\n",
            "28/27 [==============================] - 56s 2s/step - loss: 1.7808 - acc: 0.3480 - val_loss: 2.0991 - val_acc: 0.3136\n",
            "Epoch 25/100\n",
            "28/27 [==============================] - 56s 2s/step - loss: 1.7741 - acc: 0.3660 - val_loss: 2.1987 - val_acc: 0.2973\n",
            "Epoch 26/100\n",
            "28/27 [==============================] - 56s 2s/step - loss: 1.7634 - acc: 0.3743 - val_loss: 2.0161 - val_acc: 0.2736\n",
            "Epoch 27/100\n",
            "28/27 [==============================] - 56s 2s/step - loss: 1.7597 - acc: 0.3659 - val_loss: 1.8617 - val_acc: 0.3500\n",
            "Epoch 28/100\n",
            "28/27 [==============================] - 56s 2s/step - loss: 1.7524 - acc: 0.3712 - val_loss: 2.1850 - val_acc: 0.2509\n",
            "Epoch 29/100\n",
            "28/27 [==============================] - 56s 2s/step - loss: 1.7265 - acc: 0.3723 - val_loss: 1.9726 - val_acc: 0.3000\n",
            "Epoch 30/100\n",
            "28/27 [==============================] - 56s 2s/step - loss: 1.7206 - acc: 0.3902 - val_loss: 2.8543 - val_acc: 0.1973\n",
            "Epoch 31/100\n",
            "28/27 [==============================] - 56s 2s/step - loss: 1.6919 - acc: 0.3877 - val_loss: 2.1157 - val_acc: 0.2945\n",
            "Epoch 32/100\n",
            "28/27 [==============================] - 56s 2s/step - loss: 1.6954 - acc: 0.3935 - val_loss: 1.9063 - val_acc: 0.3109\n",
            "Epoch 33/100\n",
            "28/27 [==============================] - 56s 2s/step - loss: 1.6905 - acc: 0.3912 - val_loss: 1.9286 - val_acc: 0.3555\n",
            "Epoch 34/100\n",
            "28/27 [==============================] - 56s 2s/step - loss: 1.6827 - acc: 0.4022 - val_loss: 1.8270 - val_acc: 0.3509\n",
            "Epoch 35/100\n",
            "28/27 [==============================] - 56s 2s/step - loss: 1.6479 - acc: 0.4138 - val_loss: 2.6808 - val_acc: 0.2482\n",
            "Epoch 36/100\n",
            "28/27 [==============================] - 56s 2s/step - loss: 1.6788 - acc: 0.4040 - val_loss: 1.7715 - val_acc: 0.4027\n",
            "Epoch 37/100\n",
            "28/27 [==============================] - 56s 2s/step - loss: 1.6714 - acc: 0.4012 - val_loss: 1.8471 - val_acc: 0.3545\n",
            "Epoch 38/100\n",
            "28/27 [==============================] - 56s 2s/step - loss: 1.6510 - acc: 0.4118 - val_loss: 1.9300 - val_acc: 0.3291\n",
            "Epoch 39/100\n",
            "28/27 [==============================] - 56s 2s/step - loss: 1.6175 - acc: 0.4288 - val_loss: 2.0375 - val_acc: 0.3109\n",
            "Epoch 40/100\n",
            "28/27 [==============================] - 56s 2s/step - loss: 1.6106 - acc: 0.4272 - val_loss: 1.8491 - val_acc: 0.3473\n",
            "Epoch 41/100\n",
            "28/27 [==============================] - 56s 2s/step - loss: 1.6149 - acc: 0.4186 - val_loss: 1.7418 - val_acc: 0.4291\n",
            "Epoch 42/100\n",
            "28/27 [==============================] - 56s 2s/step - loss: 1.6107 - acc: 0.4313 - val_loss: 1.7261 - val_acc: 0.4182\n",
            "Epoch 43/100\n",
            "28/27 [==============================] - 56s 2s/step - loss: 1.5763 - acc: 0.4417 - val_loss: 2.0174 - val_acc: 0.3409\n",
            "Epoch 44/100\n",
            "28/27 [==============================] - 56s 2s/step - loss: 1.5741 - acc: 0.4404 - val_loss: 1.7004 - val_acc: 0.4145\n",
            "Epoch 45/100\n",
            "28/27 [==============================] - 56s 2s/step - loss: 1.5501 - acc: 0.4547 - val_loss: 1.8657 - val_acc: 0.3527\n",
            "Epoch 46/100\n",
            "28/27 [==============================] - 56s 2s/step - loss: 1.5374 - acc: 0.4554 - val_loss: 1.6744 - val_acc: 0.4536\n",
            "Epoch 47/100\n",
            "28/27 [==============================] - 56s 2s/step - loss: 1.5507 - acc: 0.4500 - val_loss: 1.7063 - val_acc: 0.4136\n",
            "Epoch 48/100\n",
            "28/27 [==============================] - 56s 2s/step - loss: 1.5180 - acc: 0.4623 - val_loss: 1.9432 - val_acc: 0.3464\n",
            "Epoch 49/100\n",
            "28/27 [==============================] - 56s 2s/step - loss: 1.5405 - acc: 0.4542 - val_loss: 1.6646 - val_acc: 0.4273\n",
            "Epoch 50/100\n",
            "28/27 [==============================] - 56s 2s/step - loss: 1.5160 - acc: 0.4710 - val_loss: 1.9608 - val_acc: 0.3645\n",
            "Epoch 51/100\n",
            "28/27 [==============================] - 56s 2s/step - loss: 1.4856 - acc: 0.4699 - val_loss: 1.9843 - val_acc: 0.3645\n",
            "Epoch 52/100\n",
            "28/27 [==============================] - 56s 2s/step - loss: 1.4859 - acc: 0.4674 - val_loss: 1.6576 - val_acc: 0.4300\n",
            "Epoch 53/100\n",
            "28/27 [==============================] - 56s 2s/step - loss: 1.4745 - acc: 0.4796 - val_loss: 1.7867 - val_acc: 0.4027\n",
            "Epoch 54/100\n",
            "28/27 [==============================] - 56s 2s/step - loss: 1.4872 - acc: 0.4802 - val_loss: 1.6078 - val_acc: 0.4609\n",
            "Epoch 55/100\n",
            "28/27 [==============================] - 56s 2s/step - loss: 1.4850 - acc: 0.4812 - val_loss: 1.8277 - val_acc: 0.4173\n",
            "Epoch 56/100\n",
            "28/27 [==============================] - 56s 2s/step - loss: 1.4433 - acc: 0.4862 - val_loss: 1.5420 - val_acc: 0.4764\n",
            "Epoch 57/100\n",
            "28/27 [==============================] - 56s 2s/step - loss: 1.4610 - acc: 0.4824 - val_loss: 1.5858 - val_acc: 0.4245\n",
            "Epoch 58/100\n",
            "28/27 [==============================] - 56s 2s/step - loss: 1.4484 - acc: 0.4900 - val_loss: 1.8264 - val_acc: 0.3691\n",
            "Epoch 59/100\n",
            "28/27 [==============================] - 56s 2s/step - loss: 1.4121 - acc: 0.5030 - val_loss: 1.6731 - val_acc: 0.4509\n",
            "Epoch 60/100\n",
            "28/27 [==============================] - 56s 2s/step - loss: 1.4098 - acc: 0.5051 - val_loss: 1.6341 - val_acc: 0.4582\n",
            "Epoch 61/100\n",
            "28/27 [==============================] - 56s 2s/step - loss: 1.4058 - acc: 0.5027 - val_loss: 1.6663 - val_acc: 0.4455\n",
            "Epoch 62/100\n",
            "28/27 [==============================] - 56s 2s/step - loss: 1.4034 - acc: 0.4936 - val_loss: 1.7345 - val_acc: 0.4255\n",
            "Epoch 63/100\n",
            "28/27 [==============================] - 56s 2s/step - loss: 1.4063 - acc: 0.5013 - val_loss: 1.6773 - val_acc: 0.4345\n",
            "Epoch 64/100\n",
            "28/27 [==============================] - 56s 2s/step - loss: 1.3655 - acc: 0.5127 - val_loss: 1.5400 - val_acc: 0.4755\n",
            "Epoch 65/100\n",
            "28/27 [==============================] - 56s 2s/step - loss: 1.3435 - acc: 0.5217 - val_loss: 1.6783 - val_acc: 0.4282\n",
            "Epoch 66/100\n",
            "28/27 [==============================] - 56s 2s/step - loss: 1.3471 - acc: 0.5224 - val_loss: 1.8981 - val_acc: 0.3691\n",
            "Epoch 67/100\n",
            "28/27 [==============================] - 56s 2s/step - loss: 1.3533 - acc: 0.5190 - val_loss: 1.8682 - val_acc: 0.3973\n",
            "Epoch 68/100\n",
            "28/27 [==============================] - 56s 2s/step - loss: 1.3208 - acc: 0.5285 - val_loss: 1.6107 - val_acc: 0.4709\n",
            "Epoch 69/100\n",
            "28/27 [==============================] - 56s 2s/step - loss: 1.3286 - acc: 0.5217 - val_loss: 1.4655 - val_acc: 0.5136\n",
            "Epoch 70/100\n",
            "28/27 [==============================] - 56s 2s/step - loss: 1.2937 - acc: 0.5444 - val_loss: 1.7643 - val_acc: 0.4491\n",
            "Epoch 71/100\n",
            "28/27 [==============================] - 56s 2s/step - loss: 1.2985 - acc: 0.5460 - val_loss: 1.4926 - val_acc: 0.5082\n",
            "Epoch 72/100\n",
            "28/27 [==============================] - 56s 2s/step - loss: 1.2990 - acc: 0.5371 - val_loss: 1.5828 - val_acc: 0.4645\n",
            "Epoch 73/100\n",
            "28/27 [==============================] - 56s 2s/step - loss: 1.2936 - acc: 0.5506 - val_loss: 1.4416 - val_acc: 0.5200\n",
            "Epoch 74/100\n",
            "28/27 [==============================] - 56s 2s/step - loss: 1.2888 - acc: 0.5508 - val_loss: 1.5600 - val_acc: 0.5091\n",
            "Epoch 75/100\n",
            "28/27 [==============================] - 56s 2s/step - loss: 1.2896 - acc: 0.5516 - val_loss: 1.6178 - val_acc: 0.4700\n",
            "Epoch 76/100\n",
            "28/27 [==============================] - 56s 2s/step - loss: 1.2268 - acc: 0.5629 - val_loss: 1.4081 - val_acc: 0.5409\n",
            "Epoch 77/100\n",
            "28/27 [==============================] - 56s 2s/step - loss: 1.2488 - acc: 0.5587 - val_loss: 1.5407 - val_acc: 0.4809\n",
            "Epoch 78/100\n",
            "28/27 [==============================] - 56s 2s/step - loss: 1.2387 - acc: 0.5642 - val_loss: 1.7162 - val_acc: 0.4718\n",
            "Epoch 79/100\n",
            "28/27 [==============================] - 56s 2s/step - loss: 1.2220 - acc: 0.5674 - val_loss: 1.8038 - val_acc: 0.4345\n",
            "Epoch 80/100\n",
            "28/27 [==============================] - 56s 2s/step - loss: 1.2654 - acc: 0.5583 - val_loss: 1.4841 - val_acc: 0.5018\n",
            "Epoch 81/100\n",
            "28/27 [==============================] - 56s 2s/step - loss: 1.1842 - acc: 0.5935 - val_loss: 1.4904 - val_acc: 0.5036\n",
            "Epoch 82/100\n",
            "28/27 [==============================] - 56s 2s/step - loss: 1.2314 - acc: 0.5734 - val_loss: 1.7499 - val_acc: 0.4391\n",
            "Epoch 83/100\n",
            "28/27 [==============================] - 56s 2s/step - loss: 1.2052 - acc: 0.5806 - val_loss: 1.4302 - val_acc: 0.5282\n",
            "Epoch 84/100\n",
            "28/27 [==============================] - 56s 2s/step - loss: 1.1949 - acc: 0.5777 - val_loss: 1.6562 - val_acc: 0.4536\n",
            "Epoch 85/100\n",
            "28/27 [==============================] - 56s 2s/step - loss: 1.1706 - acc: 0.5944 - val_loss: 1.7708 - val_acc: 0.4555\n",
            "Epoch 86/100\n",
            "28/27 [==============================] - 56s 2s/step - loss: 1.1681 - acc: 0.5890 - val_loss: 1.9581 - val_acc: 0.4445\n",
            "Epoch 87/100\n",
            "28/27 [==============================] - 56s 2s/step - loss: 1.1542 - acc: 0.5951 - val_loss: 1.7756 - val_acc: 0.4527\n",
            "Epoch 88/100\n",
            "28/27 [==============================] - 56s 2s/step - loss: 1.1328 - acc: 0.6146 - val_loss: 1.4169 - val_acc: 0.5336\n",
            "Epoch 89/100\n",
            "28/27 [==============================] - 56s 2s/step - loss: 1.1455 - acc: 0.5975 - val_loss: 1.4185 - val_acc: 0.5318\n",
            "Epoch 90/100\n",
            "28/27 [==============================] - 56s 2s/step - loss: 1.1329 - acc: 0.6081 - val_loss: 2.2937 - val_acc: 0.3555\n",
            "Epoch 91/100\n",
            "28/27 [==============================] - 56s 2s/step - loss: 1.1223 - acc: 0.6064 - val_loss: 1.7291 - val_acc: 0.4445\n",
            "Epoch 92/100\n",
            "28/27 [==============================] - 56s 2s/step - loss: 1.1050 - acc: 0.6111 - val_loss: 1.6938 - val_acc: 0.4691\n",
            "Epoch 93/100\n",
            "28/27 [==============================] - 57s 2s/step - loss: 1.0972 - acc: 0.6078 - val_loss: 1.3777 - val_acc: 0.5409\n",
            "Epoch 94/100\n",
            "28/27 [==============================] - 56s 2s/step - loss: 1.1012 - acc: 0.6168 - val_loss: 1.3594 - val_acc: 0.5700\n",
            "Epoch 95/100\n",
            "28/27 [==============================] - 56s 2s/step - loss: 1.0850 - acc: 0.6177 - val_loss: 1.4677 - val_acc: 0.5200\n",
            "Epoch 96/100\n",
            "28/27 [==============================] - 56s 2s/step - loss: 1.0628 - acc: 0.6257 - val_loss: 1.4707 - val_acc: 0.5173\n",
            "Epoch 97/100\n",
            "28/27 [==============================] - 56s 2s/step - loss: 1.0290 - acc: 0.6348 - val_loss: 1.6015 - val_acc: 0.5127\n",
            "Epoch 98/100\n",
            "28/27 [==============================] - 56s 2s/step - loss: 1.0653 - acc: 0.6270 - val_loss: 1.9536 - val_acc: 0.4345\n",
            "Epoch 99/100\n",
            "28/27 [==============================] - 56s 2s/step - loss: 1.0359 - acc: 0.6355 - val_loss: 1.6308 - val_acc: 0.4827\n",
            "Epoch 100/100\n",
            "28/27 [==============================] - 56s 2s/step - loss: 1.0369 - acc: 0.6270 - val_loss: 1.6868 - val_acc: 0.4673\n"
          ],
          "name": "stdout"
        }
      ]
    },
    {
      "cell_type": "code",
      "metadata": {
        "id": "PFfPvUxCFiS0",
        "colab_type": "code",
        "outputId": "d6346968-469b-4293-b568-d64bbf74cdd1",
        "colab": {
          "base_uri": "https://localhost:8080/",
          "height": 281
        }
      },
      "source": [
        "import matplotlib.pyplot as plt\n",
        "acc = history.history['acc']\n",
        "val_acc = history.history['val_acc']\n",
        "loss = history.history['loss']\n",
        "val_loss = history.history['val_loss']\n",
        "epochs = range(len(acc))\n",
        "plt.plot(epochs, acc, 'r', label='Training accuracy')\n",
        "plt.plot(epochs, val_acc, 'b', label='Validation accuracy')\n",
        "plt.title('Training and validation accuracy')\n",
        "plt.legend(loc=0)\n",
        "plt.savefig(\"TRAINING_PLOT_FILE.png\", bbox_inches='tight')"
      ],
      "execution_count": 0,
      "outputs": [
        {
          "output_type": "display_data",
          "data": {
            "image/png": "[encoded data removed]",
            "text/plain": [
              "<Figure size 432x288 with 1 Axes>"
            ]
          },
          "metadata": {
            "tags": []
          }
        }
      ]
    },
    {
      "cell_type": "code",
      "metadata": {
        "id": "aCovrPhrsZBa",
        "colab_type": "code",
        "colab": {}
      },
      "source": [
        ""
      ],
      "execution_count": 0,
      "outputs": []
    },
    {
      "cell_type": "code",
      "metadata": {
        "id": "mLMYFAutWGZy",
        "colab_type": "code",
        "outputId": "4e654d5c-2b52-40f2-d629-fbb91443ec7d",
        "colab": {
          "base_uri": "https://localhost:8080/",
          "height": 281
        }
      },
      "source": [
        "plt.plot(epochs, loss, 'b', label='Training loss')\n",
        "plt.plot(epochs, val_loss, 'r', label='Validation loss')\n",
        "plt.title('Training and validation loss')\n",
        "plt.legend()\n",
        "plt.savefig(\"VALIDATION_PLOT_FILE.png\", bbox_inches='tight')"
      ],
      "execution_count": 0,
      "outputs": [
        {
          "output_type": "display_data",
          "data": {
            "image/png": "[encoded data removed]",
            "text/plain": [
              "<Figure size 432x288 with 1 Axes>"
            ]
          },
          "metadata": {
            "tags": []
          }
        }
      ]
    },
    {
      "cell_type": "code",
      "metadata": {
        "id": "VCtu-Ghb0PT2",
        "colab_type": "code",
        "colab": {}
      },
      "source": [
        "model.save(Base_dir+'vgg16.hdf5')"
      ],
      "execution_count": 0,
      "outputs": []
    },
    {
      "cell_type": "code",
      "metadata": {
        "id": "VPAG4UaVU6JW",
        "colab_type": "code",
        "colab": {}
      },
      "source": [
        "# Compile the model\n",
        "model.compile(loss='categorical_crossentropy',\n",
        "              optimizer=optimizers.RMSprop(lr=1e-5,rho=0.9, epsilon=1e-08, decay=0.00001),\n",
        "              metrics=['acc'])\n",
        "# Train the model\n",
        "callbacks1 = myCallback()\n",
        "                                          \n",
        "#early = EarlyStopping(monitor='val_acc', min_delta=0.01, patience=10, verbose=1, mode='auto')\n",
        "\n",
        "history = model.fit_generator(\n",
        "            train_generator,\n",
        "            validation_data = validation_generator,\n",
        "            steps_per_epoch =train_generator.samples/train_generator.batch_size,\n",
        "            epochs = 100,\n",
        "            validation_steps = validation_generator.samples/validation_generator.batch_size,\n",
        "            verbose = 1,\n",
        "            callbacks=[callbacks1])\n",
        "# Save the model\n",
        "model.save('01vgg16.hdf5')"
      ],
      "execution_count": 0,
      "outputs": []
    },
    {
      "cell_type": "code",
      "metadata": {
        "id": "g98m_Hg8zPmM",
        "colab_type": "code",
        "colab": {}
      },
      "source": [
        "import matplotlib.pyplot as plt\n",
        "acc = history.history['acc']\n",
        "val_acc = history.history['val_acc']\n",
        "loss = history.history['loss']\n",
        "val_loss = history.history['val_loss']\n",
        "epochs = range(len(acc))\n",
        "plt.plot(epochs, acc, 'r', label='Training accuracy')\n",
        "plt.plot(epochs, val_acc, 'b', label='Validation accuracy')\n",
        "plt.title('Training and validation accuracy')\n",
        "plt.legend(loc=0)\n",
        "plt.savefig(\"TRAINING_PLOT_FILE.png\", bbox_inches='tight')"
      ],
      "execution_count": 0,
      "outputs": []
    },
    {
      "cell_type": "code",
      "metadata": {
        "id": "RKofnPjnzUe2",
        "colab_type": "code",
        "colab": {}
      },
      "source": [
        "plt.plot(epochs, loss, 'b', label='Training loss')\n",
        "plt.plot(epochs, val_loss, 'r', label='Validation loss')\n",
        "plt.title('Training and validation loss')\n",
        "plt.legend()\n",
        "plt.savefig(\"VALIDATION_PLOT_FILE.png\", bbox_inches='tight')"
      ],
      "execution_count": 0,
      "outputs": []
    },
    {
      "cell_type": "code",
      "metadata": {
        "id": "vAjzQAdUz61m",
        "colab_type": "code",
        "colab": {}
      },
      "source": [
        ""
      ],
      "execution_count": 0,
      "outputs": []
    }
  ]
}