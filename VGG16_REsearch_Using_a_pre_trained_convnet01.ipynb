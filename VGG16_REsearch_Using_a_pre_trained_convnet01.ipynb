{
  "nbformat": 4,
  "nbformat_minor": 0,
  "metadata": {
    "colab": {
      "name": "VGG16 REsearch Using_a_pre_trained_convnet01.ipynb",
      "version": "0.3.2",
      "provenance": [],
      "collapsed_sections": [],
      "include_colab_link": true
    },
    "kernelspec": {
      "name": "python3",
      "display_name": "Python 3"
    },
    "accelerator": "GPU"
  },
  "cells": [
    {
      "cell_type": "markdown",
      "metadata": {
        "id": "view-in-github",
        "colab_type": "text"
      },
      "source": [
        "<a href=\"https://colab.research.google.com/github/anilsah895/skin_diseases_detection/blob/master/VGG16_REsearch_Using_a_pre_trained_convnet01.ipynb\" target=\"_parent\"><img src=\"https://colab.research.google.com/assets/colab-badge.svg\" alt=\"Open In Colab\"/></a>"
      ]
    },
    {
      "cell_type": "code",
      "metadata": {
        "id": "uOQW3tLlZ3Rm",
        "colab_type": "code",
        "outputId": "446f44c4-0b4e-47e0-c574-349da73c58df",
        "colab": {
          "base_uri": "https://localhost:8080/",
          "height": 122
        }
      },
      "source": [
        "import os\n",
        "from google.colab import drive\n",
        "drive.mount('/content/gdrive/')\n",
        "\n",
        "Base_dir=\"gdrive/My Drive/Skin_Data1/\"#content/gdrive/My Drive/Colab Notebooks/Skin_Data1\n",
        "train_path = Base_dir+\"train\"\n",
        "validation_path = Base_dir+\"validation\""
      ],
      "execution_count": 1,
      "outputs": [
        {
          "output_type": "stream",
          "text": [
            "Go to this URL in a browser: https://accounts.google.com/o/oauth2/auth?client_id=947318989803-6bn6qk8qdgf4n4g3pfee6491hc0brc4i.apps.googleusercontent.com&redirect_uri=urn%3Aietf%3Awg%3Aoauth%3A2.0%3Aoob&scope=email%20https%3A%2F%2Fwww.googleapis.com%2Fauth%2Fdocs.test%20https%3A%2F%2Fwww.googleapis.com%2Fauth%2Fdrive%20https%3A%2F%2Fwww.googleapis.com%2Fauth%2Fdrive.photos.readonly%20https%3A%2F%2Fwww.googleapis.com%2Fauth%2Fpeopleapi.readonly&response_type=code\n",
            "\n",
            "Enter your authorization code:\n",
            "··········\n",
            "Mounted at /content/gdrive/\n"
          ],
          "name": "stdout"
        }
      ]
    },
    {
      "cell_type": "code",
      "metadata": {
        "id": "uCbyF37cZkUD",
        "colab_type": "code",
        "outputId": "bc8c9105-d576-4b25-ab52-3dd62a2f9f71",
        "colab": {
          "base_uri": "https://localhost:8080/",
          "height": 1000
        }
      },
      "source": [
        "from keras import models\n",
        "from keras import layers\n",
        "from keras import optimizers\n",
        "from keras.applications import VGG16\n",
        "#local_weights_file = \"gdrive/My Drive/skindata/vgg16_weights_tf_dim_ordering_tf_kernels.h5\"\n",
        "\n",
        "pre_trained_model = VGG16(weights='imagenet',\n",
        "                  include_top=False,\n",
        "                  input_shape=(150, 150, 3))\n",
        "\n",
        "#pre_trained_model.load_weights(local_weights_file)\n",
        "for layer in pre_trained_model.layers:\n",
        "  layer.trainable = False\n",
        "  \n",
        "# Print the model summary\n",
        "pre_trained_model.summary()"
      ],
      "execution_count": 0,
      "outputs": [
        {
          "output_type": "stream",
          "text": [
            "Using TensorFlow backend.\n",
            "WARNING: Logging before flag parsing goes to stderr.\n",
            "W0710 19:52:17.456116 140178692454272 deprecation_wrapper.py:119] From /usr/local/lib/python3.6/dist-packages/keras/backend/tensorflow_backend.py:74: The name tf.get_default_graph is deprecated. Please use tf.compat.v1.get_default_graph instead.\n",
            "\n",
            "W0710 19:52:17.473287 140178692454272 deprecation_wrapper.py:119] From /usr/local/lib/python3.6/dist-packages/keras/backend/tensorflow_backend.py:517: The name tf.placeholder is deprecated. Please use tf.compat.v1.placeholder instead.\n",
            "\n",
            "W0710 19:52:17.476690 140178692454272 deprecation_wrapper.py:119] From /usr/local/lib/python3.6/dist-packages/keras/backend/tensorflow_backend.py:4138: The name tf.random_uniform is deprecated. Please use tf.random.uniform instead.\n",
            "\n",
            "W0710 19:52:17.510783 140178692454272 deprecation_wrapper.py:119] From /usr/local/lib/python3.6/dist-packages/keras/backend/tensorflow_backend.py:3976: The name tf.nn.max_pool is deprecated. Please use tf.nn.max_pool2d instead.\n",
            "\n",
            "W0710 19:52:17.909494 140178692454272 deprecation_wrapper.py:119] From /usr/local/lib/python3.6/dist-packages/keras/backend/tensorflow_backend.py:174: The name tf.get_default_session is deprecated. Please use tf.compat.v1.get_default_session instead.\n",
            "\n",
            "W0710 19:52:17.911214 140178692454272 deprecation_wrapper.py:119] From /usr/local/lib/python3.6/dist-packages/keras/backend/tensorflow_backend.py:181: The name tf.ConfigProto is deprecated. Please use tf.compat.v1.ConfigProto instead.\n",
            "\n"
          ],
          "name": "stderr"
        },
        {
          "output_type": "stream",
          "text": [
            "_________________________________________________________________\n",
            "Layer (type)                 Output Shape              Param #   \n",
            "=================================================================\n",
            "input_1 (InputLayer)         (None, 150, 150, 3)       0         \n",
            "_________________________________________________________________\n",
            "block1_conv1 (Conv2D)        (None, 150, 150, 64)      1792      \n",
            "_________________________________________________________________\n",
            "block1_conv2 (Conv2D)        (None, 150, 150, 64)      36928     \n",
            "_________________________________________________________________\n",
            "block1_pool (MaxPooling2D)   (None, 75, 75, 64)        0         \n",
            "_________________________________________________________________\n",
            "block2_conv1 (Conv2D)        (None, 75, 75, 128)       73856     \n",
            "_________________________________________________________________\n",
            "block2_conv2 (Conv2D)        (None, 75, 75, 128)       147584    \n",
            "_________________________________________________________________\n",
            "block2_pool (MaxPooling2D)   (None, 37, 37, 128)       0         \n",
            "_________________________________________________________________\n",
            "block3_conv1 (Conv2D)        (None, 37, 37, 256)       295168    \n",
            "_________________________________________________________________\n",
            "block3_conv2 (Conv2D)        (None, 37, 37, 256)       590080    \n",
            "_________________________________________________________________\n",
            "block3_conv3 (Conv2D)        (None, 37, 37, 256)       590080    \n",
            "_________________________________________________________________\n",
            "block3_pool (MaxPooling2D)   (None, 18, 18, 256)       0         \n",
            "_________________________________________________________________\n",
            "block4_conv1 (Conv2D)        (None, 18, 18, 512)       1180160   \n",
            "_________________________________________________________________\n",
            "block4_conv2 (Conv2D)        (None, 18, 18, 512)       2359808   \n",
            "_________________________________________________________________\n",
            "block4_conv3 (Conv2D)        (None, 18, 18, 512)       2359808   \n",
            "_________________________________________________________________\n",
            "block4_pool (MaxPooling2D)   (None, 9, 9, 512)         0         \n",
            "_________________________________________________________________\n",
            "block5_conv1 (Conv2D)        (None, 9, 9, 512)         2359808   \n",
            "_________________________________________________________________\n",
            "block5_conv2 (Conv2D)        (None, 9, 9, 512)         2359808   \n",
            "_________________________________________________________________\n",
            "block5_conv3 (Conv2D)        (None, 9, 9, 512)         2359808   \n",
            "_________________________________________________________________\n",
            "block5_pool (MaxPooling2D)   (None, 4, 4, 512)         0         \n",
            "=================================================================\n",
            "Total params: 14,714,688\n",
            "Trainable params: 0\n",
            "Non-trainable params: 14,714,688\n",
            "_________________________________________________________________\n"
          ],
          "name": "stdout"
        }
      ]
    },
    {
      "cell_type": "code",
      "metadata": {
        "id": "yfg_sfVqZryt",
        "colab_type": "code",
        "colab": {}
      },
      "source": [
        "#conv_base.summary()\n",
        "with open(Base_dir+\"vgg16MODEL_SUMMARY_FILE.text\",\"w\") as fh:\n",
        "    pre_trained_model.summary(print_fn=lambda line: fh.write(line + \"\\n\"))"
      ],
      "execution_count": 0,
      "outputs": []
    },
    {
      "cell_type": "code",
      "metadata": {
        "id": "6Ylc6y4yLTT4",
        "colab_type": "code",
        "colab": {}
      },
      "source": [
        "import tensorflow as tf\n",
        "# Define a Callback class that stops training once accuracy reaches 99.9%\n",
        "class myCallback(tf.keras.callbacks.Callback):\n",
        "  def on_epoch_end(self, epoch, logs={}):\n",
        "    if(logs.get('acc')>0.9885):\n",
        "      print(\"\\nReached 98.85% accuracy so cancelling training!\")\n",
        "      self.model.stop_training = True"
      ],
      "execution_count": 0,
      "outputs": []
    },
    {
      "cell_type": "code",
      "metadata": {
        "id": "5P_62EXChrkE",
        "colab_type": "code",
        "outputId": "a0a703b8-c539-4df3-c693-f2fe0dd3e9ef",
        "colab": {
          "base_uri": "https://localhost:8080/",
          "height": 377
        }
      },
      "source": [
        "model = models.Sequential()\n",
        "model.add(pre_trained_model)\n",
        "#model.add(layers.Flatten())\n",
        "#model.last_layer.output()\n",
        "model.add(layers.Flatten())\n",
        "model.add(layers.Dropout(0.25))\n",
        "model.add(layers.Dense(512, activation='relu'))\n",
        "model.add(layers.Dense(10, activation='softmax'))\n",
        "#pre_trained_model.trainable = False\n",
        "\n",
        "model.summary()"
      ],
      "execution_count": 0,
      "outputs": [
        {
          "output_type": "stream",
          "text": [
            "W0710 19:52:24.852080 140178692454272 deprecation.py:506] From /usr/local/lib/python3.6/dist-packages/keras/backend/tensorflow_backend.py:3445: calling dropout (from tensorflow.python.ops.nn_ops) with keep_prob is deprecated and will be removed in a future version.\n",
            "Instructions for updating:\n",
            "Please use `rate` instead of `keep_prob`. Rate should be set to `rate = 1 - keep_prob`.\n"
          ],
          "name": "stderr"
        },
        {
          "output_type": "stream",
          "text": [
            "_________________________________________________________________\n",
            "Layer (type)                 Output Shape              Param #   \n",
            "=================================================================\n",
            "vgg16 (Model)                (None, 4, 4, 512)         14714688  \n",
            "_________________________________________________________________\n",
            "flatten_1 (Flatten)          (None, 8192)              0         \n",
            "_________________________________________________________________\n",
            "dropout_1 (Dropout)          (None, 8192)              0         \n",
            "_________________________________________________________________\n",
            "dense_1 (Dense)              (None, 512)               4194816   \n",
            "_________________________________________________________________\n",
            "dense_2 (Dense)              (None, 10)                5130      \n",
            "=================================================================\n",
            "Total params: 18,914,634\n",
            "Trainable params: 4,199,946\n",
            "Non-trainable params: 14,714,688\n",
            "_________________________________________________________________\n"
          ],
          "name": "stdout"
        }
      ]
    },
    {
      "cell_type": "code",
      "metadata": {
        "id": "QUzt3Qph0tqU",
        "colab_type": "code",
        "outputId": "915974f9-8648-4dd9-ead8-9cae7fa316fa",
        "colab": {
          "base_uri": "https://localhost:8080/",
          "height": 340
        }
      },
      "source": [
        "# Check the trainable status of the individual layers\n",
        "for layer in pre_trained_model.layers:\n",
        "    print(layer, layer.trainable)"
      ],
      "execution_count": 0,
      "outputs": [
        {
          "output_type": "stream",
          "text": [
            "<keras.engine.input_layer.InputLayer object at 0x7f7dc34914a8> False\n",
            "<keras.layers.convolutional.Conv2D object at 0x7f7d9bd456a0> False\n",
            "<keras.layers.convolutional.Conv2D object at 0x7f7d9bd45550> False\n",
            "<keras.layers.pooling.MaxPooling2D object at 0x7f7d9bd45eb8> False\n",
            "<keras.layers.convolutional.Conv2D object at 0x7f7d9b4ee6d8> False\n",
            "<keras.layers.convolutional.Conv2D object at 0x7f7d9b49e6a0> False\n",
            "<keras.layers.pooling.MaxPooling2D object at 0x7f7d9b49edd8> False\n",
            "<keras.layers.convolutional.Conv2D object at 0x7f7d9b4b4da0> False\n",
            "<keras.layers.convolutional.Conv2D object at 0x7f7d9b4602e8> False\n",
            "<keras.layers.convolutional.Conv2D object at 0x7f7d9b4783c8> False\n",
            "<keras.layers.pooling.MaxPooling2D object at 0x7f7d9b411358> False\n",
            "<keras.layers.convolutional.Conv2D object at 0x7f7d9b4113c8> False\n",
            "<keras.layers.convolutional.Conv2D object at 0x7f7d9b43a668> False\n",
            "<keras.layers.convolutional.Conv2D object at 0x7f7d9b3d3630> False\n",
            "<keras.layers.pooling.MaxPooling2D object at 0x7f7d9b3e8e48> False\n",
            "<keras.layers.convolutional.Conv2D object at 0x7f7d9b3e8d68> False\n",
            "<keras.layers.convolutional.Conv2D object at 0x7f7d9b397470> False\n",
            "<keras.layers.convolutional.Conv2D object at 0x7f7d9b3accc0> False\n",
            "<keras.layers.pooling.MaxPooling2D object at 0x7f7d9b3bfa58> False\n"
          ],
          "name": "stdout"
        }
      ]
    },
    {
      "cell_type": "code",
      "metadata": {
        "id": "D3pvUY__N9nt",
        "colab_type": "code",
        "outputId": "06d580ef-f080-4774-ac28-bf262c159239",
        "colab": {
          "base_uri": "https://localhost:8080/",
          "height": 1000
        }
      },
      "source": [
        "#from keras import models\n",
        "from keras.preprocessing.image import ImageDataGenerator\n",
        "callback1=myCallback()\n",
        "\n",
        "model.compile(optimizer = optimizers.RMSprop(lr=0.00003, rho=0.9, epsilon=1e-08, decay=0.00001), \n",
        "              loss = 'categorical_crossentropy', \n",
        "              metrics = ['acc'])\n",
        "train_datagen = ImageDataGenerator(\n",
        "      rescale=1./255,\n",
        "      rotation_range=20,\n",
        "      width_shift_range=0.2,\n",
        "      height_shift_range=0.2,\n",
        "      horizontal_flip=True,\n",
        "      vertical_flip=True,\n",
        "      fill_mode='nearest'\n",
        ")\n",
        "\n",
        "validation_datagen = ImageDataGenerator(rescale=1./255)\n",
        "# Change the batchsize according to your system RAM\n",
        "train_batchsize = 64\n",
        "val_batchsize = 32\n",
        " \n",
        "train_generator = train_datagen.flow_from_directory(\n",
        "        train_path,\n",
        "        target_size=(150, 150),\n",
        "        batch_size=train_batchsize,\n",
        "        class_mode='categorical')\n",
        " \n",
        "validation_generator = validation_datagen.flow_from_directory(\n",
        "        validation_path,\n",
        "        target_size=(150, 150),\n",
        "        batch_size=val_batchsize,\n",
        "        class_mode='categorical',\n",
        "        shuffle=False)\n",
        "\n",
        "\n",
        "history = model.fit_generator(\n",
        "      train_generator,\n",
        "      steps_per_epoch=train_generator.samples/train_generator.batch_size,\n",
        "      epochs=200,\n",
        "      validation_data=validation_generator,\n",
        "      validation_steps=validation_generator.samples/validation_generator.batch_size,\n",
        "      verbose=1,\n",
        "callbacks=[callback1])"
      ],
      "execution_count": 0,
      "outputs": [
        {
          "output_type": "stream",
          "text": [
            "W0710 19:52:42.258774 140178692454272 deprecation_wrapper.py:119] From /usr/local/lib/python3.6/dist-packages/keras/optimizers.py:790: The name tf.train.Optimizer is deprecated. Please use tf.compat.v1.train.Optimizer instead.\n",
            "\n"
          ],
          "name": "stderr"
        },
        {
          "output_type": "stream",
          "text": [
            "Found 4400 images belonging to 10 classes.\n",
            "Found 1100 images belonging to 10 classes.\n"
          ],
          "name": "stdout"
        },
        {
          "output_type": "stream",
          "text": [
            "W0710 19:52:42.813229 140178692454272 deprecation.py:323] From /usr/local/lib/python3.6/dist-packages/tensorflow/python/ops/math_grad.py:1250: add_dispatch_support.<locals>.wrapper (from tensorflow.python.ops.array_ops) is deprecated and will be removed in a future version.\n",
            "Instructions for updating:\n",
            "Use tf.where in 2.0, which has the same broadcast rule as np.where\n"
          ],
          "name": "stderr"
        },
        {
          "output_type": "stream",
          "text": [
            "Epoch 1/200\n",
            "69/68 [==============================] - 78s 1s/step - loss: 2.2135 - acc: 0.1993 - val_loss: 2.0222 - val_acc: 0.3091\n",
            "Epoch 2/200\n",
            "69/68 [==============================] - 73s 1s/step - loss: 2.0027 - acc: 0.2963 - val_loss: 1.8822 - val_acc: 0.3591\n",
            "Epoch 3/200\n",
            "69/68 [==============================] - 69s 999ms/step - loss: 1.9023 - acc: 0.3348 - val_loss: 1.8002 - val_acc: 0.3900\n",
            "Epoch 4/200\n",
            "69/68 [==============================] - 102s 1s/step - loss: 1.8220 - acc: 0.3640 - val_loss: 1.7447 - val_acc: 0.4200\n",
            "Epoch 5/200\n",
            "69/68 [==============================] - 107s 2s/step - loss: 1.7713 - acc: 0.3910 - val_loss: 1.7091 - val_acc: 0.4427\n",
            "Epoch 6/200\n",
            "69/68 [==============================] - 105s 2s/step - loss: 1.7273 - acc: 0.4074 - val_loss: 1.7155 - val_acc: 0.4318\n",
            "Epoch 7/200\n",
            "69/68 [==============================] - 108s 2s/step - loss: 1.7137 - acc: 0.4073 - val_loss: 1.6846 - val_acc: 0.4136\n",
            "Epoch 8/200\n",
            "69/68 [==============================] - 108s 2s/step - loss: 1.6766 - acc: 0.4213 - val_loss: 1.6680 - val_acc: 0.4336\n",
            "Epoch 9/200\n",
            "69/68 [==============================] - 110s 2s/step - loss: 1.6491 - acc: 0.4349 - val_loss: 1.6305 - val_acc: 0.4609\n",
            "Epoch 10/200\n",
            "69/68 [==============================] - 109s 2s/step - loss: 1.6444 - acc: 0.4389 - val_loss: 1.6699 - val_acc: 0.4345\n",
            "Epoch 11/200\n",
            "69/68 [==============================] - 109s 2s/step - loss: 1.6183 - acc: 0.4512 - val_loss: 1.6281 - val_acc: 0.4518\n",
            "Epoch 12/200\n",
            "69/68 [==============================] - 113s 2s/step - loss: 1.6024 - acc: 0.4499 - val_loss: 1.6012 - val_acc: 0.4427\n",
            "Epoch 13/200\n",
            "69/68 [==============================] - 108s 2s/step - loss: 1.5788 - acc: 0.4668 - val_loss: 1.5897 - val_acc: 0.4664\n",
            "Epoch 14/200\n",
            "69/68 [==============================] - 108s 2s/step - loss: 1.5619 - acc: 0.4665 - val_loss: 1.5857 - val_acc: 0.4736\n",
            "Epoch 15/200\n",
            "69/68 [==============================] - 110s 2s/step - loss: 1.5521 - acc: 0.4805 - val_loss: 1.6179 - val_acc: 0.4445\n",
            "Epoch 16/200\n",
            "69/68 [==============================] - 109s 2s/step - loss: 1.5477 - acc: 0.4755 - val_loss: 1.5680 - val_acc: 0.4645\n",
            "Epoch 17/200\n",
            "69/68 [==============================] - 110s 2s/step - loss: 1.5302 - acc: 0.4718 - val_loss: 1.5480 - val_acc: 0.4791\n",
            "Epoch 18/200\n",
            "69/68 [==============================] - 112s 2s/step - loss: 1.5340 - acc: 0.4724 - val_loss: 1.5518 - val_acc: 0.4700\n",
            "Epoch 19/200\n",
            "69/68 [==============================] - 111s 2s/step - loss: 1.5216 - acc: 0.4746 - val_loss: 1.5468 - val_acc: 0.4727\n",
            "Epoch 20/200\n",
            "69/68 [==============================] - 113s 2s/step - loss: 1.5055 - acc: 0.4923 - val_loss: 1.5388 - val_acc: 0.4773\n",
            "Epoch 21/200\n",
            "69/68 [==============================] - 111s 2s/step - loss: 1.4985 - acc: 0.4911 - val_loss: 1.5158 - val_acc: 0.5000\n",
            "Epoch 22/200\n",
            "69/68 [==============================] - 111s 2s/step - loss: 1.4974 - acc: 0.4969 - val_loss: 1.5065 - val_acc: 0.5045\n",
            "Epoch 23/200\n",
            "69/68 [==============================] - 113s 2s/step - loss: 1.4789 - acc: 0.4988 - val_loss: 1.5011 - val_acc: 0.5027\n",
            "Epoch 24/200\n",
            "69/68 [==============================] - 114s 2s/step - loss: 1.4805 - acc: 0.5001 - val_loss: 1.5079 - val_acc: 0.4891\n",
            "Epoch 25/200\n",
            "69/68 [==============================] - 111s 2s/step - loss: 1.4619 - acc: 0.5085 - val_loss: 1.4951 - val_acc: 0.4964\n",
            "Epoch 26/200\n",
            "69/68 [==============================] - 111s 2s/step - loss: 1.4460 - acc: 0.5051 - val_loss: 1.5068 - val_acc: 0.4836\n",
            "Epoch 27/200\n",
            "69/68 [==============================] - 112s 2s/step - loss: 1.4681 - acc: 0.4977 - val_loss: 1.4997 - val_acc: 0.4900\n",
            "Epoch 28/200\n",
            "69/68 [==============================] - 112s 2s/step - loss: 1.4470 - acc: 0.4996 - val_loss: 1.4967 - val_acc: 0.5064\n",
            "Epoch 29/200\n",
            "69/68 [==============================] - 112s 2s/step - loss: 1.4498 - acc: 0.5166 - val_loss: 1.5248 - val_acc: 0.4655\n",
            "Epoch 30/200\n",
            "69/68 [==============================] - 112s 2s/step - loss: 1.4351 - acc: 0.5155 - val_loss: 1.5191 - val_acc: 0.4745\n",
            "Epoch 31/200\n",
            "69/68 [==============================] - 112s 2s/step - loss: 1.4316 - acc: 0.5119 - val_loss: 1.4766 - val_acc: 0.5064\n",
            "Epoch 32/200\n",
            "69/68 [==============================] - 112s 2s/step - loss: 1.4186 - acc: 0.5197 - val_loss: 1.4839 - val_acc: 0.4945\n",
            "Epoch 33/200\n",
            "69/68 [==============================] - 112s 2s/step - loss: 1.4217 - acc: 0.5140 - val_loss: 1.4973 - val_acc: 0.5000\n",
            "Epoch 34/200\n",
            "69/68 [==============================] - 112s 2s/step - loss: 1.4205 - acc: 0.5238 - val_loss: 1.4933 - val_acc: 0.4964\n",
            "Epoch 35/200\n",
            "69/68 [==============================] - 113s 2s/step - loss: 1.4082 - acc: 0.5227 - val_loss: 1.4628 - val_acc: 0.5091\n",
            "Epoch 36/200\n",
            "69/68 [==============================] - 114s 2s/step - loss: 1.4059 - acc: 0.5203 - val_loss: 1.4984 - val_acc: 0.4882\n",
            "Epoch 37/200\n",
            "69/68 [==============================] - 113s 2s/step - loss: 1.3949 - acc: 0.5284 - val_loss: 1.4656 - val_acc: 0.5145\n",
            "Epoch 38/200\n",
            "69/68 [==============================] - 112s 2s/step - loss: 1.4127 - acc: 0.5158 - val_loss: 1.4771 - val_acc: 0.4964\n",
            "Epoch 39/200\n",
            "69/68 [==============================] - 112s 2s/step - loss: 1.3996 - acc: 0.5223 - val_loss: 1.4875 - val_acc: 0.4900\n",
            "Epoch 40/200\n",
            "69/68 [==============================] - 112s 2s/step - loss: 1.3989 - acc: 0.5198 - val_loss: 1.4522 - val_acc: 0.5118\n",
            "Epoch 41/200\n",
            "69/68 [==============================] - 112s 2s/step - loss: 1.3913 - acc: 0.5173 - val_loss: 1.4537 - val_acc: 0.5091\n",
            "Epoch 42/200\n",
            "69/68 [==============================] - 113s 2s/step - loss: 1.3797 - acc: 0.5328 - val_loss: 1.4579 - val_acc: 0.4964\n",
            "Epoch 43/200\n",
            "69/68 [==============================] - 114s 2s/step - loss: 1.3787 - acc: 0.5327 - val_loss: 1.4863 - val_acc: 0.4882\n",
            "Epoch 44/200\n",
            "69/68 [==============================] - 116s 2s/step - loss: 1.3715 - acc: 0.5401 - val_loss: 1.4386 - val_acc: 0.5045\n",
            "Epoch 45/200\n",
            "69/68 [==============================] - 113s 2s/step - loss: 1.3716 - acc: 0.5303 - val_loss: 1.4583 - val_acc: 0.4945\n",
            "Epoch 46/200\n",
            "69/68 [==============================] - 113s 2s/step - loss: 1.3918 - acc: 0.5231 - val_loss: 1.4755 - val_acc: 0.4809\n",
            "Epoch 47/200\n",
            "69/68 [==============================] - 114s 2s/step - loss: 1.3667 - acc: 0.5304 - val_loss: 1.4674 - val_acc: 0.5082\n",
            "Epoch 48/200\n",
            "69/68 [==============================] - 112s 2s/step - loss: 1.3623 - acc: 0.5351 - val_loss: 1.4344 - val_acc: 0.5109\n",
            "Epoch 49/200\n",
            "69/68 [==============================] - 114s 2s/step - loss: 1.3672 - acc: 0.5325 - val_loss: 1.4486 - val_acc: 0.5036\n",
            "Epoch 50/200\n",
            "69/68 [==============================] - 113s 2s/step - loss: 1.3569 - acc: 0.5346 - val_loss: 1.4582 - val_acc: 0.5009\n",
            "Epoch 51/200\n",
            "69/68 [==============================] - 114s 2s/step - loss: 1.3565 - acc: 0.5386 - val_loss: 1.4415 - val_acc: 0.5009\n",
            "Epoch 52/200\n",
            "69/68 [==============================] - 112s 2s/step - loss: 1.3682 - acc: 0.5360 - val_loss: 1.4564 - val_acc: 0.4973\n",
            "Epoch 53/200\n",
            "69/68 [==============================] - 114s 2s/step - loss: 1.3432 - acc: 0.5537 - val_loss: 1.4357 - val_acc: 0.5036\n",
            "Epoch 54/200\n",
            "69/68 [==============================] - 113s 2s/step - loss: 1.3504 - acc: 0.5425 - val_loss: 1.4490 - val_acc: 0.4982\n",
            "Epoch 55/200\n",
            "69/68 [==============================] - 115s 2s/step - loss: 1.3517 - acc: 0.5393 - val_loss: 1.4458 - val_acc: 0.4982\n",
            "Epoch 56/200\n",
            "69/68 [==============================] - 113s 2s/step - loss: 1.3472 - acc: 0.5399 - val_loss: 1.4374 - val_acc: 0.5073\n",
            "Epoch 57/200\n",
            "69/68 [==============================] - 114s 2s/step - loss: 1.3438 - acc: 0.5373 - val_loss: 1.4624 - val_acc: 0.4873\n",
            "Epoch 58/200\n",
            "69/68 [==============================] - 111s 2s/step - loss: 1.3464 - acc: 0.5390 - val_loss: 1.4364 - val_acc: 0.5073\n",
            "Epoch 59/200\n",
            "69/68 [==============================] - 114s 2s/step - loss: 1.3421 - acc: 0.5485 - val_loss: 1.4480 - val_acc: 0.5100\n",
            "Epoch 60/200\n",
            "69/68 [==============================] - 113s 2s/step - loss: 1.3274 - acc: 0.5497 - val_loss: 1.4342 - val_acc: 0.5009\n",
            "Epoch 61/200\n",
            "69/68 [==============================] - 114s 2s/step - loss: 1.3178 - acc: 0.5544 - val_loss: 1.4311 - val_acc: 0.5018\n",
            "Epoch 62/200\n",
            "69/68 [==============================] - 113s 2s/step - loss: 1.3222 - acc: 0.5510 - val_loss: 1.4244 - val_acc: 0.5109\n",
            "Epoch 63/200\n",
            "69/68 [==============================] - 113s 2s/step - loss: 1.3296 - acc: 0.5473 - val_loss: 1.4443 - val_acc: 0.4909\n",
            "Epoch 64/200\n",
            "69/68 [==============================] - 114s 2s/step - loss: 1.3416 - acc: 0.5353 - val_loss: 1.4406 - val_acc: 0.5018\n",
            "Epoch 65/200\n",
            "69/68 [==============================] - 114s 2s/step - loss: 1.3354 - acc: 0.5474 - val_loss: 1.3978 - val_acc: 0.5245\n",
            "Epoch 66/200\n",
            "68/68 [============================>.] - ETA: 1s - loss: 1.3153 - acc: 0.5506"
          ],
          "name": "stdout"
        }
      ]
    },
    {
      "cell_type": "code",
      "metadata": {
        "id": "_-8jluk0iHRZ",
        "colab_type": "code",
        "colab": {}
      },
      "source": [
        "model.save(Base_dir+'beforeVGG16skin_net100.hdf5')\n"
      ],
      "execution_count": 0,
      "outputs": []
    },
    {
      "cell_type": "code",
      "metadata": {
        "id": "hTGXvxHFqTYu",
        "colab_type": "code",
        "colab": {}
      },
      "source": [
        "import matplotlib.pyplot as plt\n",
        "acc = history.history['acc']\n",
        "val_acc = history.history['val_acc']\n",
        "loss = history.history['loss']\n",
        "val_loss = history.history['val_loss']\n",
        "epochs = range(len(acc))\n",
        "plt.plot(epochs, acc, 'r', label='Training accuracy')\n",
        "plt.plot(epochs, val_acc, 'b', label='Validation accuracy')\n",
        "plt.title('Training and validation accuracy before fine tuning')\n",
        "plt.legend(loc=0)\n",
        "plt.savefig(Base_dir+\"vg16TRAINING_PLOT_FILE.png\", bbox_inches='tight')\n",
        "plt.savefig(Base_dir+\"vgg16TRAINING_PLOT_FILE.png\", bbox_inches='tight')"
      ],
      "execution_count": 0,
      "outputs": []
    },
    {
      "cell_type": "code",
      "metadata": {
        "id": "RmtsuBtkqXQf",
        "colab_type": "code",
        "colab": {}
      },
      "source": [
        "plt.plot(epochs, loss, 'b', label='Training loss')\n",
        "plt.plot(epochs, val_loss, 'r', label='Validation loss')\n",
        "plt.title('Training and validation loss after fine tuning')\n",
        "plt.legend()\n",
        "plt.savefig(Base_dir+\"vgg16VALIDATION_PLOT_FILE.png\", bbox_inches='tight')\n",
        "plt.savefig(Base_dir+\"vgg16VALIDATION_PLOT_FILE.png\", bbox_inches='tight')"
      ],
      "execution_count": 0,
      "outputs": []
    },
    {
      "cell_type": "code",
      "metadata": {
        "id": "F_GUN3ZQl8OZ",
        "colab_type": "code",
        "colab": {}
      },
      "source": [
        "model.summary()"
      ],
      "execution_count": 0,
      "outputs": []
    },
    {
      "cell_type": "code",
      "metadata": {
        "id": "IEv3crRdrd-u",
        "colab_type": "code",
        "colab": {}
      },
      "source": [
        "acc = history.history['acc']\n",
        "val_acc = history.history['val_acc']\n",
        "loss = history.history['loss']\n",
        "val_loss = history.history['val_loss']\n",
        "\n",
        "epochs = range(len(acc))\n",
        "\n",
        "plt.plot(epochs, acc, 'bo', label='Training acc')\n",
        "plt.plot(epochs, val_acc, 'b', label='Validation acc')\n",
        "plt.title('Training and validation accuracyafter fine tuning')\n",
        "plt.legend()\n",
        "\n",
        "plt.figure()\n",
        "\n",
        "plt.plot(epochs, loss, 'bo', label='Training loss')\n",
        "plt.plot(epochs, val_loss, 'b', label='Validation loss')\n",
        "plt.title('Training and validation loss')\n",
        "plt.legend()\n",
        "\n",
        "plt.show()"
      ],
      "execution_count": 0,
      "outputs": []
    },
    {
      "cell_type": "code",
      "metadata": {
        "id": "O4PckfOKYMMb",
        "colab_type": "code",
        "colab": {}
      },
      "source": [
        "from sklearn.metrics import classification_report, confusion_matrix\n",
        "import numpy as np\n",
        "from keras.models import load_model\n",
        "model1 = load_model(Base_dir+'beforeVGG16skin_net100.hdf5')\n",
        "validation_generator.reset()\n",
        "Y_pred = model1.predict_generator(validation_generator, validation_generator.samples//validation_generator.batch_size+1)\n",
        "y_pred = np.argmax(Y_pred,axis=1)\n",
        "print('Confusion Matrix')\n",
        "print(confusion_matrix(validation_generator.classes, y_pred))\n",
        "print('Classification Report')\n",
        "target_names = [\"Acne-Rosacea\", \"Basal cell carcinoma\",\" Hair Loss Alopecia and other Hair Diseases\",\n",
        "             \" Herpes\",\" Melanoma Skin Cancer Nevi and Moles\",\n",
        "            \" Nail Fungus and other Nail Disease\" , \"Urticaria Hives\",\" Vasculitis\",\" Warts\",\"seborrheic-keratoses\"]\n",
        "print(classification_report(validation_generator.classes, y_pred, target_names=target_names))"
      ],
      "execution_count": 0,
      "outputs": []
    },
    {
      "cell_type": "code",
      "metadata": {
        "id": "T4yauYCHrEHo",
        "colab_type": "code",
        "colab": {}
      },
      "source": [
        "model.summary()"
      ],
      "execution_count": 0,
      "outputs": []
    },
    {
      "cell_type": "code",
      "metadata": {
        "id": "kTjN-sS9olf9",
        "colab_type": "code",
        "colab": {}
      },
      "source": [
        "pre_trained_model.trainable = True\n",
        "\n",
        "set_trainable = False\n",
        "for layer in pre_trained_model.layers:\n",
        "    if layer.name == 'block5_conv1':\n",
        "        set_trainable = True\n",
        "    if set_trainable:\n",
        "        layer.trainable = True\n",
        "    else:\n",
        "        layer.trainable = False\n",
        "\n"
      ],
      "execution_count": 0,
      "outputs": []
    },
    {
      "cell_type": "code",
      "metadata": {
        "id": "PhuTDVjGsLXR",
        "colab_type": "code",
        "colab": {}
      },
      "source": [
        "model.compile(optimizer = optimizers.RMSprop(lr=0.000003, rho=0.9, epsilon=1e-08, decay=0.00001), \n",
        "              loss = 'categorical_crossentropy', \n",
        "              metrics = ['acc'])"
      ],
      "execution_count": 0,
      "outputs": []
    },
    {
      "cell_type": "code",
      "metadata": {
        "id": "aLr3GhyLPIDF",
        "colab_type": "code",
        "colab": {}
      },
      "source": [
        "model.summary()"
      ],
      "execution_count": 0,
      "outputs": []
    },
    {
      "cell_type": "code",
      "metadata": {
        "id": "-OxvIO4ssdU0",
        "colab_type": "code",
        "colab": {}
      },
      "source": [
        "callback1=myCallback()\n",
        "history = model.fit_generator(\n",
        "      train_generator,\n",
        "      steps_per_epoch=train_generator.samples/train_generator.batch_size,\n",
        "      epochs=200,\n",
        "      validation_data=validation_generator,\n",
        "      validation_steps=validation_generator.samples/validation_generator.batch_size,\n",
        "      verbose=1,\n",
        "callbacks=[callback1])"
      ],
      "execution_count": 0,
      "outputs": []
    },
    {
      "cell_type": "code",
      "metadata": {
        "id": "vhyqOO7e0uCT",
        "colab_type": "code",
        "colab": {}
      },
      "source": [
        "model.save(Base_dir+'VGG16skin_net_after_fineTuningAF.hdf5')\n"
      ],
      "execution_count": 0,
      "outputs": []
    },
    {
      "cell_type": "code",
      "metadata": {
        "id": "uQbEJhH4b9O1",
        "colab_type": "code",
        "colab": {}
      },
      "source": [
        "import matplotlib.pyplot as plt\n",
        "acc = history.history['acc']\n",
        "val_acc = history.history['val_acc']\n",
        "loss = history.history['loss']\n",
        "val_loss = history.history['val_loss']\n",
        "epochs = range(len(acc))\n",
        "plt.plot(epochs, acc, 'r', label='Training accuracy')\n",
        "plt.plot(epochs, val_acc, 'b', label='Validation accuracy')\n",
        "plt.title('Training and validation accuracy after fine Tuning')\n",
        "plt.legend(loc=0)\n",
        "plt.savefig(Base_dir+\"vgg16TRAINING_PLOT_FILE_after_fineTune.png\", bbox_inches='tight')"
      ],
      "execution_count": 0,
      "outputs": []
    },
    {
      "cell_type": "code",
      "metadata": {
        "id": "weEAE0KEbMw_",
        "colab_type": "code",
        "colab": {}
      },
      "source": [
        "plt.plot(epochs, loss, 'b', label='Training loss')\n",
        "plt.plot(epochs, val_loss, 'r', label='Validation loss')\n",
        "plt.title('Training and validation loss_after fine Tuning')\n",
        "plt.legend()\n",
        "plt.savefig(Base_dir+\"vgg16VALIDATION_PLOT_FILE_with_finetune.png\", bbox_inches='tight')"
      ],
      "execution_count": 0,
      "outputs": []
    },
    {
      "cell_type": "code",
      "metadata": {
        "id": "NCa7cwCEeI5z",
        "colab_type": "code",
        "colab": {}
      },
      "source": [
        "acc = history.history['acc']\n",
        "val_acc = history.history['val_acc']\n",
        "loss = history.history['loss']\n",
        "val_loss = history.history['val_loss']\n",
        "\n",
        "epochs = range(len(acc))\n",
        "\n",
        "plt.plot(epochs, acc, 'bo', label='Training acc')\n",
        "plt.plot(epochs, val_acc, 'b', label='Validation acc')\n",
        "plt.title('Training and validation accuracy')\n",
        "plt.legend()\n",
        "\n",
        "plt.figure()\n",
        "\n",
        "plt.plot(epochs, loss, 'bo', label='Training loss')\n",
        "plt.plot(epochs, val_loss, 'b', label='Validation loss')\n",
        "plt.title('Training and validation loss')\n",
        "plt.legend()\n",
        "\n",
        "plt.show()"
      ],
      "execution_count": 0,
      "outputs": []
    },
    {
      "cell_type": "code",
      "metadata": {
        "id": "JKB7UVwHcKt9",
        "colab_type": "code",
        "colab": {}
      },
      "source": [
        "from sklearn.metrics import classification_report, confusion_matrix\n",
        "import numpy as np\n",
        "from keras.models import load_model\n",
        "model1 = load_model(Base_dir+'VGG16skin_net_after_fineTuningAF.hdf5')\n",
        "validation_generator.reset()\n",
        "Y_pred = model1.predict_generator(validation_generator, validation_generator.samples//validation_generator.batch_size+1)\n",
        "y_pred = np.argmax(Y_pred,axis=1)\n",
        "print('Confusion Matrix')\n",
        "print(confusion_matrix(validation_generator.classes, y_pred))\n",
        "print('Classification Report')\n",
        "target_names = [\"Acne-Rosacea\", \"Basal cell carcinoma\",\" Hair Loss Alopecia and other Hair Diseases\",\n",
        "             \" Herpes\",\" Melanoma Skin Cancer Nevi and Moles\",\n",
        "            \" Nail Fungus and other Nail Disease\" , \"Urticaria Hives\",\" Vasculitis\",\" Warts\",\"seborrheic-keratoses\"]\n",
        "print(classification_report(validation_generator.classes, y_pred, target_names=target_names))"
      ],
      "execution_count": 0,
      "outputs": []
    },
    {
      "cell_type": "code",
      "metadata": {
        "id": "MCjxnKQKLzrJ",
        "colab_type": "code",
        "colab": {}
      },
      "source": [
        "import pydot\n",
        "from IPython.display import SVG\n",
        "from keras.utils.vis_utils import model_to_dot\n",
        "from keras.utils import plot_model\n",
        "%matplotlib inline\n",
        "plot_model(pre_trained_model, to_file=Base_dir+'model.png')\n",
        "SVG(model_to_dot(pre_trained_model).create(prog='dot', format='svg'))\n"
      ],
      "execution_count": 0,
      "outputs": []
    },
    {
      "cell_type": "code",
      "metadata": {
        "id": "gyQZiD54JMa9",
        "colab_type": "code",
        "colab": {}
      },
      "source": [
        "from keras.models import load_model\n",
        "from google.colab import files\n",
        "from keras.preprocessing import image\n",
        "import numpy as np\n",
        "from matplotlib.pyplot import imshow\n",
        "from keras.applications.imagenet_utils import preprocess_input\n",
        "import scipy.misc\n",
        "\n",
        "model = load_model(Base_dir+'VGG16skin_net_after_fineTuningAF.hdf5')\n",
        "model.compile(optimizer = 'rmsprop', loss = 'categorical_crossentropy', metrics = ['accuracy'])\n",
        "CATEGORIES =[\"Acne-Rosacea\", \"Basal cell carcinoma\",\" Hair Loss Alopecia and other Hair Diseases\",\n",
        "             \" Herpes\",\" Melanoma Skin Cancer Nevi and Moles\",\n",
        "            \" Nail Fungus and other Nail Disease\" , \"Urticaria Hives\",\" Vasculitis\",\" Warts\",\"seborrheic-keratoses\"]\n",
        "uploaded = files.upload()\n",
        "\n",
        "for fn in uploaded.keys():\n",
        " \n",
        "  # predicting images\n",
        "  path = fn\n",
        "  img = image.load_img(path, target_size=(150, 150))\n",
        "  imshow(img)\n",
        "  x = image.img_to_array(img)\n",
        "  x = np.expand_dims(x, axis=0)\n",
        "  x = preprocess_input(x)\n",
        "  #print('Input image shape:', x.shape)\n",
        "  \n",
        "  images = np.vstack([x])\n",
        "  classes = model.predict(images)#, batch_size=10)\n",
        "  #print(fn)\n",
        "  \n",
        "  print(classes[0])\n",
        "  maximum=0.9\n",
        "  for i,value in enumerate(classes[0]):\n",
        "    if value>maximum:\n",
        "      index=i\n",
        "  print(\"The predicted disease found to be \"+CATEGORIES[index]) \n",
        "  #print(type(CATEGORIES[int(classes[0][0])]))  \n",
        "  \n",
        " "
      ],
      "execution_count": 0,
      "outputs": []
    },
    {
      "cell_type": "code",
      "metadata": {
        "id": "7VBYowjAdvm6",
        "colab_type": "code",
        "colab": {}
      },
      "source": [
        ""
      ],
      "execution_count": 0,
      "outputs": []
    }
  ]
}