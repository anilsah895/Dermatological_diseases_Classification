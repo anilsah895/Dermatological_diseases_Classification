{
  "nbformat": 4,
  "nbformat_minor": 0,
  "metadata": {
    "colab": {
      "name": "Skin_diseases_classifiaction.ipynb",
      "version": "0.3.2",
      "provenance": [],
      "include_colab_link": true
    },
    "kernelspec": {
      "name": "python3",
      "display_name": "Python 3"
    },
    "accelerator": "GPU"
  },
  "cells": [
    {
      "cell_type": "markdown",
      "metadata": {
        "id": "view-in-github",
        "colab_type": "text"
      },
      "source": [
        "<a href=\"https://colab.research.google.com/github/anilsah895/skin_diseases_detection/blob/master/Skin_diseases_classifiaction.ipynb\" target=\"_parent\"><img src=\"https://colab.research.google.com/assets/colab-badge.svg\" alt=\"Open In Colab\"/></a>"
      ]
    },
    {
      "cell_type": "code",
      "metadata": {
        "id": "iTj2ozGVFZTd",
        "colab_type": "code",
        "outputId": "bff33035-d529-484b-a411-be0e1df7fdd9",
        "colab": {
          "base_uri": "https://localhost:8080/",
          "height": 445
        }
      },
      "source": [
        "!pip install -U -q PyDrive \n",
        "!pip install PyDrive\n",
        "!apt-get install tar \n",
        "!apt-get install gunzip "
      ],
      "execution_count": 0,
      "outputs": [
        {
          "output_type": "stream",
          "text": [
            "\u001b[?25l\r\u001b[K    1% |▎                               | 10kB 26.0MB/s eta 0:00:01\r\u001b[K    2% |▋                               | 20kB 7.2MB/s eta 0:00:01\r\u001b[K    3% |█                               | 30kB 10.2MB/s eta 0:00:01\r\u001b[K    4% |█▎                              | 40kB 6.1MB/s eta 0:00:01\r\u001b[K    5% |█▋                              | 51kB 7.5MB/s eta 0:00:01\r\u001b[K    6% |██                              | 61kB 8.8MB/s eta 0:00:01\r\u001b[K    7% |██▎                             | 71kB 9.8MB/s eta 0:00:01\r\u001b[K    8% |██▋                             | 81kB 10.8MB/s eta 0:00:01\r\u001b[K    9% |███                             | 92kB 11.9MB/s eta 0:00:01\r\u001b[K    10% |███▎                            | 102kB 9.7MB/s eta 0:00:01\r\u001b[K    11% |███▋                            | 112kB 9.8MB/s eta 0:00:01\r\u001b[K    12% |████                            | 122kB 12.5MB/s eta 0:00:01\r\u001b[K    13% |████▎                           | 133kB 12.4MB/s eta 0:00:01\r\u001b[K    14% |████▋                           | 143kB 21.6MB/s eta 0:00:01\r\u001b[K    15% |█████                           | 153kB 21.6MB/s eta 0:00:01\r\u001b[K    16% |█████▎                          | 163kB 21.6MB/s eta 0:00:01\r\u001b[K    17% |█████▋                          | 174kB 21.8MB/s eta 0:00:01\r\u001b[K    18% |██████                          | 184kB 22.4MB/s eta 0:00:01\r\u001b[K    19% |██████▎                         | 194kB 22.6MB/s eta 0:00:01\r\u001b[K    20% |██████▋                         | 204kB 24.9MB/s eta 0:00:01\r\u001b[K    21% |███████                         | 215kB 25.4MB/s eta 0:00:01\r\u001b[K    22% |███████▎                        | 225kB 25.6MB/s eta 0:00:01\r\u001b[K    23% |███████▋                        | 235kB 26.7MB/s eta 0:00:01\r\u001b[K    24% |████████                        | 245kB 26.7MB/s eta 0:00:01\r\u001b[K    25% |████████▎                       | 256kB 27.0MB/s eta 0:00:01\r\u001b[K    26% |████████▋                       | 266kB 25.3MB/s eta 0:00:01\r\u001b[K    27% |█████████                       | 276kB 26.1MB/s eta 0:00:01\r\u001b[K    29% |█████████▎                      | 286kB 26.2MB/s eta 0:00:01\r\u001b[K    30% |█████████▋                      | 296kB 26.0MB/s eta 0:00:01\r\u001b[K    31% |██████████                      | 307kB 61.7MB/s eta 0:00:01\r\u001b[K    32% |██████████▎                     | 317kB 65.1MB/s eta 0:00:01\r\u001b[K    33% |██████████▋                     | 327kB 66.1MB/s eta 0:00:01\r\u001b[K    34% |███████████                     | 337kB 68.2MB/s eta 0:00:01\r\u001b[K    35% |███████████▎                    | 348kB 58.1MB/s eta 0:00:01\r\u001b[K    36% |███████████▋                    | 358kB 57.6MB/s eta 0:00:01\r\u001b[K    37% |████████████                    | 368kB 68.2MB/s eta 0:00:01\r\u001b[K    38% |████████████▎                   | 378kB 69.2MB/s eta 0:00:01\r\u001b[K    39% |████████████▋                   | 389kB 69.6MB/s eta 0:00:01\r\u001b[K    40% |█████████████                   | 399kB 54.2MB/s eta 0:00:01\r\u001b[K    41% |█████████████▎                  | 409kB 52.7MB/s eta 0:00:01\r\u001b[K    42% |█████████████▋                  | 419kB 51.3MB/s eta 0:00:01\r\u001b[K    43% |██████████████                  | 430kB 50.2MB/s eta 0:00:01\r\u001b[K    44% |██████████████▎                 | 440kB 49.7MB/s eta 0:00:01\r\u001b[K    45% |██████████████▋                 | 450kB 51.0MB/s eta 0:00:01\r\u001b[K    46% |███████████████                 | 460kB 49.9MB/s eta 0:00:01\r\u001b[K    47% |███████████████▎                | 471kB 50.4MB/s eta 0:00:01\r\u001b[K    48% |███████████████▋                | 481kB 50.6MB/s eta 0:00:01\r\u001b[K    49% |████████████████                | 491kB 50.3MB/s eta 0:00:01\r\u001b[K    50% |████████████████▎               | 501kB 64.5MB/s eta 0:00:01\r\u001b[K    51% |████████████████▋               | 512kB 60.5MB/s eta 0:00:01\r\u001b[K    52% |█████████████████               | 522kB 62.0MB/s eta 0:00:01\r\u001b[K    53% |█████████████████▎              | 532kB 64.7MB/s eta 0:00:01\r\u001b[K    54% |█████████████████▋              | 542kB 65.5MB/s eta 0:00:01\r\u001b[K    55% |██████████████████              | 552kB 77.6MB/s eta 0:00:01\r\u001b[K    57% |██████████████████▎             | 563kB 80.8MB/s eta 0:00:01\r\u001b[K    58% |██████████████████▋             | 573kB 79.2MB/s eta 0:00:01\r\u001b[K    59% |███████████████████             | 583kB 79.3MB/s eta 0:00:01\r\u001b[K    60% |███████████████████▎            | 593kB 80.1MB/s eta 0:00:01\r\u001b[K    61% |███████████████████▋            | 604kB 79.6MB/s eta 0:00:01\r\u001b[K    62% |████████████████████            | 614kB 90.2MB/s eta 0:00:01\r\u001b[K    63% |████████████████████▎           | 624kB 91.1MB/s eta 0:00:01\r\u001b[K    64% |████████████████████▋           | 634kB 91.9MB/s eta 0:00:01\r\u001b[K    65% |█████████████████████           | 645kB 92.4MB/s eta 0:00:01\r\u001b[K    66% |█████████████████████▎          | 655kB 90.2MB/s eta 0:00:01\r\u001b[K    67% |█████████████████████▋          | 665kB 59.5MB/s eta 0:00:01\r\u001b[K    68% |██████████████████████          | 675kB 58.7MB/s eta 0:00:01\r\u001b[K    69% |██████████████████████▎         | 686kB 58.2MB/s eta 0:00:01\r\u001b[K    70% |██████████████████████▋         | 696kB 58.1MB/s eta 0:00:01\r\u001b[K    71% |███████████████████████         | 706kB 58.0MB/s eta 0:00:01\r\u001b[K    72% |███████████████████████▎        | 716kB 58.5MB/s eta 0:00:01\r\u001b[K    73% |███████████████████████▋        | 727kB 58.4MB/s eta 0:00:01\r\u001b[K    74% |████████████████████████        | 737kB 56.5MB/s eta 0:00:01\r\u001b[K    75% |████████████████████████▎       | 747kB 55.8MB/s eta 0:00:01\r\u001b[K    76% |████████████████████████▋       | 757kB 55.6MB/s eta 0:00:01\r\u001b[K    77% |████████████████████████▉       | 768kB 81.4MB/s eta 0:00:01\r\u001b[K    78% |█████████████████████████▏      | 778kB 84.0MB/s eta 0:00:01\r\u001b[K    79% |█████████████████████████▌      | 788kB 81.2MB/s eta 0:00:01\r\u001b[K    80% |█████████████████████████▉      | 798kB 81.5MB/s eta 0:00:01\r\u001b[K    81% |██████████████████████████▏     | 808kB 80.0MB/s eta 0:00:01\r\u001b[K    82% |██████████████████████████▌     | 819kB 78.7MB/s eta 0:00:01\r\u001b[K    83% |██████████████████████████▉     | 829kB 79.5MB/s eta 0:00:01\r\u001b[K    85% |███████████████████████████▏    | 839kB 82.5MB/s eta 0:00:01\r\u001b[K    86% |███████████████████████████▌    | 849kB 84.7MB/s eta 0:00:01\r\u001b[K    87% |███████████████████████████▉    | 860kB 73.2MB/s eta 0:00:01\r\u001b[K    88% |████████████████████████████▏   | 870kB 72.6MB/s eta 0:00:01\r\u001b[K    89% |████████████████████████████▌   | 880kB 72.5MB/s eta 0:00:01\r\u001b[K    90% |████████████████████████████▉   | 890kB 75.3MB/s eta 0:00:01\r\u001b[K    91% |█████████████████████████████▏  | 901kB 75.5MB/s eta 0:00:01\r\u001b[K    92% |█████████████████████████████▌  | 911kB 77.9MB/s eta 0:00:01\r\u001b[K    93% |█████████████████████████████▉  | 921kB 78.9MB/s eta 0:00:01\r\u001b[K    94% |██████████████████████████████▏ | 931kB 78.9MB/s eta 0:00:01\r\u001b[K    95% |██████████████████████████████▌ | 942kB 79.0MB/s eta 0:00:01\r\u001b[K    96% |██████████████████████████████▉ | 952kB 78.7MB/s eta 0:00:01\r\u001b[K    97% |███████████████████████████████▏| 962kB 95.5MB/s eta 0:00:01\r\u001b[K    98% |███████████████████████████████▌| 972kB 96.8MB/s eta 0:00:01\r\u001b[K    99% |███████████████████████████████▉| 983kB 97.7MB/s eta 0:00:01\r\u001b[K    100% |████████████████████████████████| 993kB 25.4MB/s \n",
            "\u001b[?25h  Building wheel for PyDrive (setup.py) ... \u001b[?25ldone\n",
            "\u001b[?25hRequirement already satisfied: PyDrive in /usr/local/lib/python3.6/dist-packages (1.3.1)\n",
            "Requirement already satisfied: google-api-python-client>=1.2 in /usr/local/lib/python3.6/dist-packages (from PyDrive) (1.6.7)\n",
            "Requirement already satisfied: oauth2client>=4.0.0 in /usr/local/lib/python3.6/dist-packages (from PyDrive) (4.1.3)\n",
            "Requirement already satisfied: PyYAML>=3.0 in /usr/local/lib/python3.6/dist-packages (from PyDrive) (3.13)\n",
            "Requirement already satisfied: six<2dev,>=1.6.1 in /usr/local/lib/python3.6/dist-packages (from google-api-python-client>=1.2->PyDrive) (1.12.0)\n",
            "Requirement already satisfied: httplib2<1dev,>=0.9.2 in /usr/local/lib/python3.6/dist-packages (from google-api-python-client>=1.2->PyDrive) (0.11.3)\n",
            "Requirement already satisfied: uritemplate<4dev,>=3.0.0 in /usr/local/lib/python3.6/dist-packages (from google-api-python-client>=1.2->PyDrive) (3.0.0)\n",
            "Requirement already satisfied: rsa>=3.1.4 in /usr/local/lib/python3.6/dist-packages (from oauth2client>=4.0.0->PyDrive) (4.0)\n",
            "Requirement already satisfied: pyasn1>=0.1.7 in /usr/local/lib/python3.6/dist-packages (from oauth2client>=4.0.0->PyDrive) (0.4.5)\n",
            "Requirement already satisfied: pyasn1-modules>=0.0.5 in /usr/local/lib/python3.6/dist-packages (from oauth2client>=4.0.0->PyDrive) (0.2.4)\n",
            "Reading package lists... Done\n",
            "Building dependency tree       \n",
            "Reading state information... Done\n",
            "tar is already the newest version (1.29b-2ubuntu0.1).\n",
            "The following package was automatically installed and is no longer required:\n",
            "  libnvidia-common-410\n",
            "Use 'apt autoremove' to remove it.\n",
            "0 upgraded, 0 newly installed, 0 to remove and 6 not upgraded.\n",
            "Reading package lists... Done\n",
            "Building dependency tree       \n",
            "Reading state information... Done\n",
            "E: Unable to locate package gunzip\n"
          ],
          "name": "stdout"
        }
      ]
    },
    {
      "cell_type": "code",
      "metadata": {
        "id": "mt7E8S5nFjWc",
        "colab_type": "code",
        "colab": {}
      },
      "source": [
        "from google.colab import drive"
      ],
      "execution_count": 0,
      "outputs": []
    },
    {
      "cell_type": "code",
      "metadata": {
        "id": "yTZnHRoPGLVr",
        "colab_type": "code",
        "outputId": "af5b4676-57c1-41f0-bc83-15e2e8f25aa1",
        "colab": {
          "base_uri": "https://localhost:8080/",
          "height": 122
        }
      },
      "source": [
        "from google.colab import drive\n",
        "drive.mount('/content/gdrive')"
      ],
      "execution_count": 0,
      "outputs": [
        {
          "output_type": "stream",
          "text": [
            "Go to this URL in a browser: https://accounts.google.com/o/oauth2/auth?client_id=947318989803-6bn6qk8qdgf4n4g3pfee6491hc0brc4i.apps.googleusercontent.com&redirect_uri=urn%3Aietf%3Awg%3Aoauth%3A2.0%3Aoob&scope=email%20https%3A%2F%2Fwww.googleapis.com%2Fauth%2Fdocs.test%20https%3A%2F%2Fwww.googleapis.com%2Fauth%2Fdrive%20https%3A%2F%2Fwww.googleapis.com%2Fauth%2Fdrive.photos.readonly%20https%3A%2F%2Fwww.googleapis.com%2Fauth%2Fpeopleapi.readonly&response_type=code\n",
            "\n",
            "Enter your authorization code:\n",
            "··········\n",
            "Mounted at /content/gdrive\n"
          ],
          "name": "stdout"
        }
      ]
    },
    {
      "cell_type": "code",
      "metadata": {
        "id": "6oCrlm_iR6A_",
        "colab_type": "code",
        "colab": {}
      },
      "source": [
        "import os\n",
        "import numpy as np\n",
        "import keras\n",
        "from keras.models import Sequential\n",
        "from keras.layers import Activation, Dropout, Flatten, Dense\n",
        "from keras.preprocessing.image import ImageDataGenerator\n",
        "from keras.layers import Convolution2D, MaxPooling2D, ZeroPadding2D\n",
        "from keras import optimizers\n",
        "import scipy.ndimage\n",
        "from keras.layers import Convolution2D as Conv2D"
      ],
      "execution_count": 0,
      "outputs": []
    },
    {
      "cell_type": "code",
      "metadata": {
        "id": "DDQsd2GAUUjJ",
        "colab_type": "code",
        "colab": {}
      },
      "source": [
        "train_path = \"gdrive/My Drive/Colab Notebooks/skin data/train/\"\n",
        "\n",
        "test_path = \"gdrive/My Drive/Colab Notebooks/skin data/test\""
      ],
      "execution_count": 0,
      "outputs": []
    },
    {
      "cell_type": "code",
      "metadata": {
        "id": "771xPI0BLo-5",
        "colab_type": "code",
        "outputId": "b04911b9-101e-4eb7-e2ff-6a7f82450602",
        "colab": {
          "base_uri": "https://localhost:8080/",
          "height": 884
        }
      },
      "source": [
        "input_shape = (224, 224, 3)\n",
        "\n",
        "#Instantiate an empty model\n",
        "model = Sequential([\n",
        "Conv2D(64, (3, 3), input_shape=input_shape, padding='same', activation='relu'),\n",
        "Conv2D(64, (3, 3), activation='relu', padding='same'),\n",
        "MaxPooling2D(pool_size=(2, 2), strides=(2, 2)),\n",
        "Conv2D(128, (3, 3), activation='relu', padding='same'),\n",
        "Conv2D(128, (3, 3), activation='relu', padding='same'),\n",
        "MaxPooling2D(pool_size=(2, 2), strides=(2, 2)),\n",
        "Conv2D(256, (3, 3), activation='relu', padding='same'),\n",
        "Conv2D(256, (3, 3), activation='relu', padding='same',),\n",
        "Conv2D(256, (3, 3), activation='relu', padding='same'),\n",
        "MaxPooling2D(pool_size=(2, 2), strides=(2, 2)),\n",
        "Conv2D(512, (3, 3), activation='relu', padding='same'),\n",
        "Conv2D(512, (3, 3), activation='relu', padding='same'),\n",
        "Conv2D(512, (3, 3), activation='relu', padding='same'),\n",
        "MaxPooling2D(pool_size=(2, 2), strides=(2, 2)),\n",
        "Conv2D(512, (3, 3), activation='relu', padding='same'),\n",
        "Conv2D(512, (3, 3), activation='relu', padding='same'),\n",
        "Conv2D(512, (3, 3), activation='relu', padding='same'),\n",
        "MaxPooling2D(pool_size=(2, 2), strides=(2, 2)),\n",
        "Flatten(),\n",
        "Dense(4096, activation='relu'),\n",
        "Dense(1000, activation='relu'),\n",
        "Dense(8, activation='softmax')\n",
        "])\n",
        "\n",
        "model.summary()\n",
        "\n",
        "# Compile the model\n",
        "model.compile(loss=keras.losses.categorical_crossentropy, optimizer='adam', metrics=['accuracy'])"
      ],
      "execution_count": 0,
      "outputs": [
        {
          "output_type": "stream",
          "text": [
            "_________________________________________________________________\n",
            "Layer (type)                 Output Shape              Param #   \n",
            "=================================================================\n",
            "conv2d_40 (Conv2D)           (None, 224, 224, 64)      1792      \n",
            "_________________________________________________________________\n",
            "conv2d_41 (Conv2D)           (None, 224, 224, 64)      36928     \n",
            "_________________________________________________________________\n",
            "max_pooling2d_16 (MaxPooling (None, 112, 112, 64)      0         \n",
            "_________________________________________________________________\n",
            "conv2d_42 (Conv2D)           (None, 112, 112, 128)     73856     \n",
            "_________________________________________________________________\n",
            "conv2d_43 (Conv2D)           (None, 112, 112, 128)     147584    \n",
            "_________________________________________________________________\n",
            "max_pooling2d_17 (MaxPooling (None, 56, 56, 128)       0         \n",
            "_________________________________________________________________\n",
            "conv2d_44 (Conv2D)           (None, 56, 56, 256)       295168    \n",
            "_________________________________________________________________\n",
            "conv2d_45 (Conv2D)           (None, 56, 56, 256)       590080    \n",
            "_________________________________________________________________\n",
            "conv2d_46 (Conv2D)           (None, 56, 56, 256)       590080    \n",
            "_________________________________________________________________\n",
            "max_pooling2d_18 (MaxPooling (None, 28, 28, 256)       0         \n",
            "_________________________________________________________________\n",
            "conv2d_47 (Conv2D)           (None, 28, 28, 512)       1180160   \n",
            "_________________________________________________________________\n",
            "conv2d_48 (Conv2D)           (None, 28, 28, 512)       2359808   \n",
            "_________________________________________________________________\n",
            "conv2d_49 (Conv2D)           (None, 28, 28, 512)       2359808   \n",
            "_________________________________________________________________\n",
            "max_pooling2d_19 (MaxPooling (None, 14, 14, 512)       0         \n",
            "_________________________________________________________________\n",
            "conv2d_50 (Conv2D)           (None, 14, 14, 512)       2359808   \n",
            "_________________________________________________________________\n",
            "conv2d_51 (Conv2D)           (None, 14, 14, 512)       2359808   \n",
            "_________________________________________________________________\n",
            "conv2d_52 (Conv2D)           (None, 14, 14, 512)       2359808   \n",
            "_________________________________________________________________\n",
            "max_pooling2d_20 (MaxPooling (None, 7, 7, 512)         0         \n",
            "_________________________________________________________________\n",
            "flatten_4 (Flatten)          (None, 25088)             0         \n",
            "_________________________________________________________________\n",
            "dense_10 (Dense)             (None, 4096)              102764544 \n",
            "_________________________________________________________________\n",
            "dense_11 (Dense)             (None, 1000)              4097000   \n",
            "_________________________________________________________________\n",
            "dense_12 (Dense)             (None, 8)                 8008      \n",
            "=================================================================\n",
            "Total params: 121,584,240\n",
            "Trainable params: 121,584,240\n",
            "Non-trainable params: 0\n",
            "_________________________________________________________________\n"
          ],
          "name": "stdout"
        }
      ]
    },
    {
      "cell_type": "code",
      "metadata": {
        "id": "qK0dtMeWUci-",
        "colab_type": "code",
        "outputId": "61e02af4-1a0f-495b-b981-1d9d1973134b",
        "colab": {
          "base_uri": "https://localhost:8080/",
          "height": 34
        }
      },
      "source": [
        "\"\"\"\"from keras.applications import VGG16\n",
        "#Load the VGG model\n",
        "vgg_conv = VGG16(weights='imagenet', include_top=False, input_shape=(128, 128, 3))\"\"\"\n"
      ],
      "execution_count": 0,
      "outputs": [
        {
          "output_type": "execute_result",
          "data": {
            "text/plain": [
              "'\"from keras.applications import VGG16\\n#Load the VGG model\\nvgg_conv = VGG16(weights=\\'imagenet\\', include_top=False, input_shape=(128, 128, 3))'"
            ]
          },
          "metadata": {
            "tags": []
          },
          "execution_count": 42
        }
      ]
    },
    {
      "cell_type": "code",
      "metadata": {
        "id": "JBW3vAJKUr8d",
        "colab_type": "code",
        "outputId": "b26b52e2-7fb0-481b-eb18-76bebcf7c268",
        "colab": {
          "base_uri": "https://localhost:8080/",
          "height": 51
        }
      },
      "source": [
        "train_datagen = ImageDataGenerator(\n",
        "      rescale=1./255,\n",
        "      featurewise_center=True,\n",
        "      featurewise_std_normalization=True,\n",
        "      rotation_range=20,\n",
        "      width_shift_range=0.2,\n",
        "      height_shift_range=0.2,\n",
        "      horizontal_flip=True,\n",
        "      fill_mode='nearest')\n",
        " \n",
        "validation_datagen = ImageDataGenerator(rescale=1./255)\n",
        " \n",
        "# Change the batchsize according to your system RAM\n",
        "train_batchsize = 100\n",
        "val_batchsize = 32\n",
        " \n",
        "train_generator = train_datagen.flow_from_directory(\n",
        "        train_path,\n",
        "        target_size=(224, 224),\n",
        "        batch_size=train_batchsize,\n",
        "        class_mode='categorical')\n",
        " \n",
        "validation_generator = validation_datagen.flow_from_directory(\n",
        "        test_path,\n",
        "        target_size=(224, 224),\n",
        "        batch_size=val_batchsize,\n",
        "        class_mode='categorical',\n",
        "        shuffle=False)"
      ],
      "execution_count": 0,
      "outputs": [
        {
          "output_type": "stream",
          "text": [
            "Found 5914 images belonging to 8 classes.\n",
            "Found 1461 images belonging to 8 classes.\n"
          ],
          "name": "stdout"
        }
      ]
    },
    {
      "cell_type": "code",
      "metadata": {
        "id": "7VcOwXuMUzG_",
        "colab_type": "code",
        "outputId": "b21fc5d1-ef8d-4c79-9cf6-8419ecbacdc7",
        "colab": {
          "base_uri": "https://localhost:8080/",
          "height": 1805
        }
      },
      "source": [
        "# Compile the model\n",
        "model.compile(loss='categorical_crossentropy',\n",
        "              optimizer=optimizers.RMSprop(lr=1e-4),\n",
        "              metrics=['acc'])\n",
        "# Train the model\n",
        "history =model.fit_generator(\n",
        "      train_generator,\n",
        "      steps_per_epoch=train_generator.samples/train_generator.batch_size ,\n",
        "      epochs=10,\n",
        "      validation_data=validation_generator,\n",
        "      validation_steps=validation_generator.samples/validation_generator.batch_size,\n",
        "      verbose=1)\n",
        " \n",
        "# Save the model\n",
        "model.save('small_last4.hdf5')"
      ],
      "execution_count": 0,
      "outputs": [
        {
          "output_type": "stream",
          "text": [
            "Epoch 1/50\n"
          ],
          "name": "stdout"
        },
        {
          "output_type": "stream",
          "text": [
            "/usr/local/lib/python3.6/dist-packages/keras_preprocessing/image/image_data_generator.py:699: UserWarning: This ImageDataGenerator specifies `featurewise_center`, but it hasn't been fit on any training data. Fit it first by calling `.fit(numpy_data)`.\n",
            "  warnings.warn('This ImageDataGenerator specifies '\n",
            "/usr/local/lib/python3.6/dist-packages/keras_preprocessing/image/image_data_generator.py:707: UserWarning: This ImageDataGenerator specifies `featurewise_std_normalization`, but it hasn't been fit on any training data. Fit it first by calling `.fit(numpy_data)`.\n",
            "  warnings.warn('This ImageDataGenerator specifies '\n"
          ],
          "name": "stderr"
        },
        {
          "output_type": "stream",
          "text": [
            "60/59 [==============================] - 136s 2s/step - loss: 2.0567 - acc: 0.2109 - val_loss: 1.9319 - val_acc: 0.2348\n",
            "Epoch 2/50\n",
            "60/59 [==============================] - 129s 2s/step - loss: 1.9190 - acc: 0.2598 - val_loss: 1.9007 - val_acc: 0.2628\n",
            "Epoch 3/50\n",
            "60/59 [==============================] - 129s 2s/step - loss: 1.8905 - acc: 0.2851 - val_loss: 2.2020 - val_acc: 0.2799\n",
            "Epoch 4/50\n",
            "60/59 [==============================] - 131s 2s/step - loss: 1.8769 - acc: 0.2814 - val_loss: 1.8814 - val_acc: 0.2710\n",
            "Epoch 5/50\n",
            "60/59 [==============================] - 129s 2s/step - loss: 1.8557 - acc: 0.2979 - val_loss: 2.0218 - val_acc: 0.2252\n",
            "Epoch 6/50\n",
            "60/59 [==============================] - 129s 2s/step - loss: 1.8200 - acc: 0.2995 - val_loss: 1.8080 - val_acc: 0.2964\n",
            "Epoch 7/50\n",
            "60/59 [==============================] - 130s 2s/step - loss: 1.8010 - acc: 0.3104 - val_loss: 1.7710 - val_acc: 0.3238\n",
            "Epoch 8/50\n",
            "60/59 [==============================] - 129s 2s/step - loss: 1.7714 - acc: 0.3259 - val_loss: 1.8599 - val_acc: 0.3046\n",
            "Epoch 9/50\n",
            "60/59 [==============================] - 131s 2s/step - loss: 1.7467 - acc: 0.3415 - val_loss: 1.8561 - val_acc: 0.2943\n",
            "Epoch 10/50\n",
            "60/59 [==============================] - 129s 2s/step - loss: 1.7455 - acc: 0.3399 - val_loss: 1.8023 - val_acc: 0.3101\n",
            "Epoch 11/50\n",
            "60/59 [==============================] - 131s 2s/step - loss: 1.7175 - acc: 0.3465 - val_loss: 1.7927 - val_acc: 0.3135\n",
            "Epoch 12/50\n",
            "60/59 [==============================] - 128s 2s/step - loss: 1.7154 - acc: 0.3533 - val_loss: 1.9016 - val_acc: 0.2690\n",
            "Epoch 13/50\n",
            "60/59 [==============================] - 129s 2s/step - loss: 1.7034 - acc: 0.3521 - val_loss: 1.8458 - val_acc: 0.2738\n",
            "Epoch 14/50\n",
            "60/59 [==============================] - 131s 2s/step - loss: 1.6927 - acc: 0.3613 - val_loss: 1.7855 - val_acc: 0.3395\n",
            "Epoch 15/50\n",
            "60/59 [==============================] - 128s 2s/step - loss: 1.6707 - acc: 0.3669 - val_loss: 1.8599 - val_acc: 0.3306\n",
            "Epoch 16/50\n",
            "60/59 [==============================] - 130s 2s/step - loss: 1.6530 - acc: 0.3800 - val_loss: 1.7529 - val_acc: 0.3422\n",
            "Epoch 17/50\n",
            "60/59 [==============================] - 128s 2s/step - loss: 1.6416 - acc: 0.3810 - val_loss: 1.8500 - val_acc: 0.3299\n",
            "Epoch 18/50\n",
            "60/59 [==============================] - 128s 2s/step - loss: 1.6316 - acc: 0.3916 - val_loss: 1.8968 - val_acc: 0.2567\n",
            "Epoch 19/50\n",
            "60/59 [==============================] - 130s 2s/step - loss: 1.6149 - acc: 0.3951 - val_loss: 1.6950 - val_acc: 0.3539\n",
            "Epoch 20/50\n",
            "60/59 [==============================] - 128s 2s/step - loss: 1.6062 - acc: 0.4025 - val_loss: 1.6830 - val_acc: 0.3860\n",
            "Epoch 21/50\n",
            "60/59 [==============================] - 130s 2s/step - loss: 1.5740 - acc: 0.4140 - val_loss: 2.1100 - val_acc: 0.2738\n",
            "Epoch 22/50\n",
            "60/59 [==============================] - 128s 2s/step - loss: 1.5786 - acc: 0.4150 - val_loss: 1.9492 - val_acc: 0.2930\n",
            "Epoch 23/50\n",
            "60/59 [==============================] - 129s 2s/step - loss: 1.5561 - acc: 0.4280 - val_loss: 1.7018 - val_acc: 0.3860\n",
            "Epoch 24/50\n",
            "60/59 [==============================] - 129s 2s/step - loss: 1.5390 - acc: 0.4286 - val_loss: 1.7494 - val_acc: 0.3847\n",
            "Epoch 25/50\n",
            "60/59 [==============================] - 128s 2s/step - loss: 1.5218 - acc: 0.4378 - val_loss: 4.2198 - val_acc: 0.1403\n",
            "Epoch 26/50\n",
            "60/59 [==============================] - 130s 2s/step - loss: 1.5391 - acc: 0.4390 - val_loss: 1.7178 - val_acc: 0.4011\n",
            "Epoch 27/50\n",
            "60/59 [==============================] - 128s 2s/step - loss: 1.4930 - acc: 0.4423 - val_loss: 1.6897 - val_acc: 0.4038\n",
            "Epoch 28/50\n",
            "60/59 [==============================] - 130s 2s/step - loss: 1.4793 - acc: 0.4557 - val_loss: 1.7470 - val_acc: 0.4059\n",
            "Epoch 29/50\n",
            "60/59 [==============================] - 129s 2s/step - loss: 1.4813 - acc: 0.4571 - val_loss: 1.7460 - val_acc: 0.3641\n",
            "Epoch 30/50\n",
            "60/59 [==============================] - 128s 2s/step - loss: 1.4723 - acc: 0.4550 - val_loss: 1.7173 - val_acc: 0.3504\n",
            "Epoch 31/50\n",
            "60/59 [==============================] - 130s 2s/step - loss: 1.4472 - acc: 0.4743 - val_loss: 1.7620 - val_acc: 0.4045\n",
            "Epoch 32/50\n",
            "60/59 [==============================] - 128s 2s/step - loss: 1.4285 - acc: 0.4780 - val_loss: 1.7918 - val_acc: 0.3854\n",
            "Epoch 33/50\n",
            "60/59 [==============================] - 130s 2s/step - loss: 1.4178 - acc: 0.4817 - val_loss: 1.6638 - val_acc: 0.3826\n",
            "Epoch 34/50\n",
            "60/59 [==============================] - 129s 2s/step - loss: 1.4075 - acc: 0.4875 - val_loss: 1.9466 - val_acc: 0.3676\n",
            "Epoch 35/50\n",
            "60/59 [==============================] - 129s 2s/step - loss: 1.3839 - acc: 0.4933 - val_loss: 1.6709 - val_acc: 0.4251\n",
            "Epoch 36/50\n",
            "60/59 [==============================] - 130s 2s/step - loss: 1.3663 - acc: 0.5067 - val_loss: 1.8969 - val_acc: 0.3806\n",
            "Epoch 37/50\n",
            "60/59 [==============================] - 129s 2s/step - loss: 1.3658 - acc: 0.5040 - val_loss: 1.5737 - val_acc: 0.4401\n",
            "Epoch 38/50\n",
            "60/59 [==============================] - 131s 2s/step - loss: 1.3352 - acc: 0.5122 - val_loss: 2.0686 - val_acc: 0.3094\n",
            "Epoch 39/50\n",
            "60/59 [==============================] - 129s 2s/step - loss: 1.3292 - acc: 0.5137 - val_loss: 1.7379 - val_acc: 0.4038\n",
            "Epoch 40/50\n",
            "60/59 [==============================] - 130s 2s/step - loss: 1.3334 - acc: 0.5192 - val_loss: 1.6088 - val_acc: 0.4251\n",
            "Epoch 41/50\n",
            "60/59 [==============================] - 129s 2s/step - loss: 1.3057 - acc: 0.5225 - val_loss: 1.6224 - val_acc: 0.4305\n",
            "Epoch 42/50\n",
            "60/59 [==============================] - 130s 2s/step - loss: 1.2930 - acc: 0.5318 - val_loss: 1.6798 - val_acc: 0.3874\n",
            "Epoch 43/50\n",
            "60/59 [==============================] - 130s 2s/step - loss: 1.2633 - acc: 0.5414 - val_loss: 1.7275 - val_acc: 0.4367\n",
            "Epoch 44/50\n",
            "60/59 [==============================] - 129s 2s/step - loss: 1.2584 - acc: 0.5414 - val_loss: 1.6032 - val_acc: 0.4798\n",
            "Epoch 45/50\n",
            "60/59 [==============================] - 130s 2s/step - loss: 1.2450 - acc: 0.5440 - val_loss: 1.5875 - val_acc: 0.4730\n",
            "Epoch 46/50\n",
            "60/59 [==============================] - 129s 2s/step - loss: 1.2261 - acc: 0.5493 - val_loss: 2.4880 - val_acc: 0.2669\n",
            "Epoch 47/50\n",
            "60/59 [==============================] - 131s 2s/step - loss: 1.2089 - acc: 0.5607 - val_loss: 1.8386 - val_acc: 0.3812\n",
            "Epoch 48/50\n",
            "60/59 [==============================] - 129s 2s/step - loss: 1.1819 - acc: 0.5764 - val_loss: 1.7850 - val_acc: 0.4463\n",
            "Epoch 49/50\n",
            "60/59 [==============================] - 129s 2s/step - loss: 1.1714 - acc: 0.5765 - val_loss: 1.5998 - val_acc: 0.4743\n",
            "Epoch 50/50\n",
            "60/59 [==============================] - 130s 2s/step - loss: 1.1356 - acc: 0.5815 - val_loss: 2.1748 - val_acc: 0.3860\n"
          ],
          "name": "stdout"
        }
      ]
    },
    {
      "cell_type": "markdown",
      "metadata": {
        "id": "XaN9-NqjCZ2B",
        "colab_type": "text"
      },
      "source": [
        ""
      ]
    },
    {
      "cell_type": "code",
      "metadata": {
        "id": "PFfPvUxCFiS0",
        "colab_type": "code",
        "colab": {}
      },
      "source": [
        "import matplotlib.pyplot as plt \n",
        "import numpy as np\n",
        "\n",
        "acc = history.history['acc']\n",
        "val_acc = history.history['val_acc']\n",
        "loss = history.history['loss']\n",
        "val_loss = history.history['val_loss']\n",
        " \n",
        "epochs = range(len(acc))\n",
        " \n",
        "plt.plot(epochs, acc, 'b', label='Training acc')\n",
        "plt.plot(epochs, val_acc, 'r', label='Validation acc')\n",
        "plt.title('Training and validation accuracy')\n",
        "plt.legend()\n",
        " \n",
        "plt.figure()\n",
        " \n",
        "plt.plot(epochs, loss, 'b', label='Training loss')\n",
        "plt.plot(epochs, val_loss, 'r', label='Validation loss')\n",
        "plt.title('Training and validation loss')\n",
        "plt.legend()"
      ],
      "execution_count": 0,
      "outputs": []
    },
    {
      "cell_type": "code",
      "metadata": {
        "id": "WbhEvp0MU5Xa",
        "colab_type": "code",
        "colab": {}
      },
      "source": [
        "from keras.preprocessing import image\n",
        "# Create a generator for prediction\n",
        "validation_generator = validation_datagen.flow_from_directory(\n",
        "        test_path,\n",
        "        target_size=(75, 75),\n",
        "        batch_size=val_batchsize,\n",
        "        class_mode='categorical',\n",
        "        shuffle=False)\n",
        " \n",
        "# Get the filenames from the generator\n",
        "fnames = validation_generator.filenames\n",
        " \n",
        "# Get the ground truth from generator\n",
        "ground_truth = validation_generator.classes\n",
        " \n",
        "# Get the label to class mapping from the generator\n",
        "label2index = validation_generator.class_indices\n",
        " \n",
        "# Getting the mapping from class index to class label\n",
        "idx2label = dict((v,k) for k,v in label2index.items())\n",
        " \n",
        "# Get the predictions from the model using the generator\n",
        "predictions = model.predict_generator(validation_generator, steps=validation_generator.samples/validation_generator.batch_size,verbose=1)\n",
        "predicted_classes = np.argmax(predictions,axis=1)\n",
        " \n",
        "errors = np.where(predicted_classes != ground_truth)[0]\n",
        "print(\"No of errors = {}/{}\".format(len(errors),validation_generator.samples))\n",
        " \n",
        "# Show the errors\n",
        "for i in range(len(errors)):\n",
        "    pred_class = np.argmax(predictions[errors[i]])\n",
        "    pred_label = idx2label[pred_class]\n",
        "     \n",
        "    title = 'Original label:{}, Prediction :{}, confidence : {:.3f}'.format(\n",
        "        fnames[errors[i]].split('/')[0],\n",
        "        pred_label,\n",
        "        predictions[errors[i]][pred_class])\n",
        "     \n",
        "    original = image.load_img('{}/{}'.format(test_path,fnames[errors[i]]))\n",
        "    plt.figure(figsize=[7,7])\n",
        "    plt.axis('off')\n",
        "    plt.title(title)\n",
        "    plt.imshow(original)\n",
        "    plt.show()"
      ],
      "execution_count": 0,
      "outputs": []
    },
    {
      "cell_type": "code",
      "metadata": {
        "id": "VPAG4UaVU6JW",
        "colab_type": "code",
        "colab": {}
      },
      "source": [
        ""
      ],
      "execution_count": 0,
      "outputs": []
    }
  ]
}