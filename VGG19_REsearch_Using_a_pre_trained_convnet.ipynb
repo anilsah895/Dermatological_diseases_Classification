{
  "nbformat": 4,
  "nbformat_minor": 0,
  "metadata": {
    "colab": {
      "name": "VGG19 REsearch Using_a_pre_trained_convnet.ipynb",
      "version": "0.3.2",
      "provenance": [],
      "collapsed_sections": [],
      "include_colab_link": true
    },
    "kernelspec": {
      "name": "python3",
      "display_name": "Python 3"
    },
    "accelerator": "GPU"
  },
  "cells": [
    {
      "cell_type": "markdown",
      "metadata": {
        "id": "view-in-github",
        "colab_type": "text"
      },
      "source": [
        "<a href=\"https://colab.research.google.com/github/anilsah895/skin_diseases_detection/blob/master/VGG19_REsearch_Using_a_pre_trained_convnet.ipynb\" target=\"_parent\"><img src=\"https://colab.research.google.com/assets/colab-badge.svg\" alt=\"Open In Colab\"/></a>"
      ]
    },
    {
      "cell_type": "code",
      "metadata": {
        "id": "uOQW3tLlZ3Rm",
        "colab_type": "code",
        "outputId": "515148c3-49c0-451e-d955-7c72c839703f",
        "colab": {
          "base_uri": "https://localhost:8080/",
          "height": 54
        }
      },
      "source": [
        "import os\n",
        "from google.colab import drive\n",
        "drive.mount('/content/gdrive/')\n",
        "\n",
        "Base_dir=\"gdrive/My Drive/Skin_Data1/\"#content/gdrive/My Drive/Colab Notebooks/Skin_Data1\n",
        "train_path = Base_dir+\"train\"\n",
        "validation_path = Base_dir+\"validation\""
      ],
      "execution_count": 1,
      "outputs": [
        {
          "output_type": "stream",
          "text": [
            "Drive already mounted at /content/gdrive/; to attempt to forcibly remount, call drive.mount(\"/content/gdrive/\", force_remount=True).\n"
          ],
          "name": "stdout"
        }
      ]
    },
    {
      "cell_type": "code",
      "metadata": {
        "id": "uCbyF37cZkUD",
        "colab_type": "code",
        "outputId": "0b3ec0b6-dd1a-4a0d-e4ba-58f9f4628ae4",
        "colab": {
          "base_uri": "https://localhost:8080/",
          "height": 1000
        }
      },
      "source": [
        "from keras import models\n",
        "from keras import layers\n",
        "from keras import optimizers\n",
        "from keras.applications import VGG19\n",
        "#local_weights_file = \"gdrive/My Drive/skindata/vgg16_weights_tf_dim_ordering_tf_kernels.h5\"\n",
        "\n",
        "pre_trained_model = VGG19(weights='imagenet',\n",
        "                  include_top=False,\n",
        "                  input_shape=(150, 150, 3))\n",
        "\n",
        "#pre_trained_model.load_weights(local_weights_file)\n",
        "for layer in pre_trained_model.layers:\n",
        "  layer.trainable = False\n",
        "  \n",
        "# Print the model summary\n",
        "pre_trained_model.summary()"
      ],
      "execution_count": 2,
      "outputs": [
        {
          "output_type": "stream",
          "text": [
            "Using TensorFlow backend.\n",
            "WARNING: Logging before flag parsing goes to stderr.\n",
            "W0711 01:57:11.723516 139781859743616 deprecation_wrapper.py:119] From /usr/local/lib/python3.6/dist-packages/keras/backend/tensorflow_backend.py:74: The name tf.get_default_graph is deprecated. Please use tf.compat.v1.get_default_graph instead.\n",
            "\n",
            "W0711 01:57:11.769267 139781859743616 deprecation_wrapper.py:119] From /usr/local/lib/python3.6/dist-packages/keras/backend/tensorflow_backend.py:517: The name tf.placeholder is deprecated. Please use tf.compat.v1.placeholder instead.\n",
            "\n",
            "W0711 01:57:11.780806 139781859743616 deprecation_wrapper.py:119] From /usr/local/lib/python3.6/dist-packages/keras/backend/tensorflow_backend.py:4138: The name tf.random_uniform is deprecated. Please use tf.random.uniform instead.\n",
            "\n",
            "W0711 01:57:11.827428 139781859743616 deprecation_wrapper.py:119] From /usr/local/lib/python3.6/dist-packages/keras/backend/tensorflow_backend.py:3976: The name tf.nn.max_pool is deprecated. Please use tf.nn.max_pool2d instead.\n",
            "\n"
          ],
          "name": "stderr"
        },
        {
          "output_type": "stream",
          "text": [
            "Downloading data from https://github.com/fchollet/deep-learning-models/releases/download/v0.1/vgg19_weights_tf_dim_ordering_tf_kernels_notop.h5\n",
            "80142336/80134624 [==============================] - 2s 0us/step\n"
          ],
          "name": "stdout"
        },
        {
          "output_type": "stream",
          "text": [
            "W0711 01:57:14.423285 139781859743616 deprecation_wrapper.py:119] From /usr/local/lib/python3.6/dist-packages/keras/backend/tensorflow_backend.py:174: The name tf.get_default_session is deprecated. Please use tf.compat.v1.get_default_session instead.\n",
            "\n",
            "W0711 01:57:14.424638 139781859743616 deprecation_wrapper.py:119] From /usr/local/lib/python3.6/dist-packages/keras/backend/tensorflow_backend.py:181: The name tf.ConfigProto is deprecated. Please use tf.compat.v1.ConfigProto instead.\n",
            "\n"
          ],
          "name": "stderr"
        },
        {
          "output_type": "stream",
          "text": [
            "_________________________________________________________________\n",
            "Layer (type)                 Output Shape              Param #   \n",
            "=================================================================\n",
            "input_1 (InputLayer)         (None, 150, 150, 3)       0         \n",
            "_________________________________________________________________\n",
            "block1_conv1 (Conv2D)        (None, 150, 150, 64)      1792      \n",
            "_________________________________________________________________\n",
            "block1_conv2 (Conv2D)        (None, 150, 150, 64)      36928     \n",
            "_________________________________________________________________\n",
            "block1_pool (MaxPooling2D)   (None, 75, 75, 64)        0         \n",
            "_________________________________________________________________\n",
            "block2_conv1 (Conv2D)        (None, 75, 75, 128)       73856     \n",
            "_________________________________________________________________\n",
            "block2_conv2 (Conv2D)        (None, 75, 75, 128)       147584    \n",
            "_________________________________________________________________\n",
            "block2_pool (MaxPooling2D)   (None, 37, 37, 128)       0         \n",
            "_________________________________________________________________\n",
            "block3_conv1 (Conv2D)        (None, 37, 37, 256)       295168    \n",
            "_________________________________________________________________\n",
            "block3_conv2 (Conv2D)        (None, 37, 37, 256)       590080    \n",
            "_________________________________________________________________\n",
            "block3_conv3 (Conv2D)        (None, 37, 37, 256)       590080    \n",
            "_________________________________________________________________\n",
            "block3_conv4 (Conv2D)        (None, 37, 37, 256)       590080    \n",
            "_________________________________________________________________\n",
            "block3_pool (MaxPooling2D)   (None, 18, 18, 256)       0         \n",
            "_________________________________________________________________\n",
            "block4_conv1 (Conv2D)        (None, 18, 18, 512)       1180160   \n",
            "_________________________________________________________________\n",
            "block4_conv2 (Conv2D)        (None, 18, 18, 512)       2359808   \n",
            "_________________________________________________________________\n",
            "block4_conv3 (Conv2D)        (None, 18, 18, 512)       2359808   \n",
            "_________________________________________________________________\n",
            "block4_conv4 (Conv2D)        (None, 18, 18, 512)       2359808   \n",
            "_________________________________________________________________\n",
            "block4_pool (MaxPooling2D)   (None, 9, 9, 512)         0         \n",
            "_________________________________________________________________\n",
            "block5_conv1 (Conv2D)        (None, 9, 9, 512)         2359808   \n",
            "_________________________________________________________________\n",
            "block5_conv2 (Conv2D)        (None, 9, 9, 512)         2359808   \n",
            "_________________________________________________________________\n",
            "block5_conv3 (Conv2D)        (None, 9, 9, 512)         2359808   \n",
            "_________________________________________________________________\n",
            "block5_conv4 (Conv2D)        (None, 9, 9, 512)         2359808   \n",
            "_________________________________________________________________\n",
            "block5_pool (MaxPooling2D)   (None, 4, 4, 512)         0         \n",
            "=================================================================\n",
            "Total params: 20,024,384\n",
            "Trainable params: 0\n",
            "Non-trainable params: 20,024,384\n",
            "_________________________________________________________________\n"
          ],
          "name": "stdout"
        }
      ]
    },
    {
      "cell_type": "code",
      "metadata": {
        "id": "cJSEg9U4aUgj",
        "colab_type": "code",
        "outputId": "8b3b5533-7e80-4441-ae68-a2782a4695e4",
        "colab": {
          "base_uri": "https://localhost:8080/",
          "height": 391
        }
      },
      "source": [
        "# Check the trainable status of the individual layers\n",
        "for layer in pre_trained_model.layers:\n",
        "    print(layer, layer.trainable)"
      ],
      "execution_count": 3,
      "outputs": [
        {
          "output_type": "stream",
          "text": [
            "<keras.engine.input_layer.InputLayer object at 0x7f215e3504e0> False\n",
            "<keras.layers.convolutional.Conv2D object at 0x7f2136b99668> False\n",
            "<keras.layers.convolutional.Conv2D object at 0x7f2136b99518> False\n",
            "<keras.layers.pooling.MaxPooling2D object at 0x7f2136b99c18> False\n",
            "<keras.layers.convolutional.Conv2D object at 0x7f2136bc3908> False\n",
            "<keras.layers.convolutional.Conv2D object at 0x7f21363726d8> False\n",
            "<keras.layers.pooling.MaxPooling2D object at 0x7f2136372e48> False\n",
            "<keras.layers.convolutional.Conv2D object at 0x7f2136388da0> False\n",
            "<keras.layers.convolutional.Conv2D object at 0x7f21363342e8> False\n",
            "<keras.layers.convolutional.Conv2D object at 0x7f2136334b70> False\n",
            "<keras.layers.convolutional.Conv2D object at 0x7f21362e6b00> False\n",
            "<keras.layers.pooling.MaxPooling2D object at 0x7f21362f95c0> False\n",
            "<keras.layers.convolutional.Conv2D object at 0x7f21362f9898> False\n",
            "<keras.layers.convolutional.Conv2D object at 0x7f21362a8c18> False\n",
            "<keras.layers.convolutional.Conv2D object at 0x7f21362bfe80> False\n",
            "<keras.layers.convolutional.Conv2D object at 0x7f21362539e8> False\n",
            "<keras.layers.pooling.MaxPooling2D object at 0x7f21362849b0> False\n",
            "<keras.layers.convolutional.Conv2D object at 0x7f2136284160> False\n",
            "<keras.layers.convolutional.Conv2D object at 0x7f21362314e0> False\n",
            "<keras.layers.convolutional.Conv2D object at 0x7f2136231e48> False\n",
            "<keras.layers.convolutional.Conv2D object at 0x7f21361ddd30> False\n",
            "<keras.layers.pooling.MaxPooling2D object at 0x7f21361f1ac8> False\n"
          ],
          "name": "stdout"
        }
      ]
    },
    {
      "cell_type": "code",
      "metadata": {
        "id": "yfg_sfVqZryt",
        "colab_type": "code",
        "colab": {}
      },
      "source": [
        "#conv_base.summary()\n",
        "with open(Base_dir+\"vgg19MODEL_SUMMARY_FILE.text\",\"w\") as fh:\n",
        "    pre_trained_model.summary(print_fn=lambda line: fh.write(line + \"\\n\"))"
      ],
      "execution_count": 0,
      "outputs": []
    },
    {
      "cell_type": "code",
      "metadata": {
        "id": "6Ylc6y4yLTT4",
        "colab_type": "code",
        "colab": {}
      },
      "source": [
        "import tensorflow as tf\n",
        "# Define a Callback class that stops training once accuracy reaches 98.85%\n",
        "class myCallback(tf.keras.callbacks.Callback):\n",
        "  def on_epoch_end(self, epoch, logs={}):\n",
        "    if(logs.get('acc')>0.9885):\n",
        "      print(\"\\nReached 98.85% accuracy so cancelling training!\")\n",
        "      self.model.stop_training = True"
      ],
      "execution_count": 0,
      "outputs": []
    },
    {
      "cell_type": "code",
      "metadata": {
        "id": "5P_62EXChrkE",
        "colab_type": "code",
        "outputId": "7da122fa-a415-4046-bd79-1597d4098c5a",
        "colab": {
          "base_uri": "https://localhost:8080/",
          "height": 377
        }
      },
      "source": [
        "model = models.Sequential()\n",
        "model.add(pre_trained_model)\n",
        "#model.add(layers.Flatten())\n",
        "#model.last_layer.output()\n",
        "model.add(layers.Flatten())\n",
        "model.add(layers.Dropout(0.25))\n",
        "model.add(layers.Dense(512, activation='relu'))\n",
        "model.add(layers.Dense(10, activation='softmax'))\n",
        "#pre_trained_model.trainable = False\n",
        "\n",
        "model.summary()"
      ],
      "execution_count": 6,
      "outputs": [
        {
          "output_type": "stream",
          "text": [
            "W0711 01:57:48.099027 139781859743616 deprecation.py:506] From /usr/local/lib/python3.6/dist-packages/keras/backend/tensorflow_backend.py:3445: calling dropout (from tensorflow.python.ops.nn_ops) with keep_prob is deprecated and will be removed in a future version.\n",
            "Instructions for updating:\n",
            "Please use `rate` instead of `keep_prob`. Rate should be set to `rate = 1 - keep_prob`.\n"
          ],
          "name": "stderr"
        },
        {
          "output_type": "stream",
          "text": [
            "_________________________________________________________________\n",
            "Layer (type)                 Output Shape              Param #   \n",
            "=================================================================\n",
            "vgg19 (Model)                (None, 4, 4, 512)         20024384  \n",
            "_________________________________________________________________\n",
            "flatten_1 (Flatten)          (None, 8192)              0         \n",
            "_________________________________________________________________\n",
            "dropout_1 (Dropout)          (None, 8192)              0         \n",
            "_________________________________________________________________\n",
            "dense_1 (Dense)              (None, 512)               4194816   \n",
            "_________________________________________________________________\n",
            "dense_2 (Dense)              (None, 10)                5130      \n",
            "=================================================================\n",
            "Total params: 24,224,330\n",
            "Trainable params: 4,199,946\n",
            "Non-trainable params: 20,024,384\n",
            "_________________________________________________________________\n"
          ],
          "name": "stdout"
        }
      ]
    },
    {
      "cell_type": "code",
      "metadata": {
        "id": "D3pvUY__N9nt",
        "colab_type": "code",
        "outputId": "1bff0960-a1ba-4ecb-ca33-bc2338ab36be",
        "colab": {
          "base_uri": "https://localhost:8080/",
          "height": 190
        }
      },
      "source": [
        "#from keras import models\n",
        "from keras.preprocessing.image import ImageDataGenerator\n",
        "callback1=myCallback()\n",
        "\n",
        "model.compile(optimizer = optimizers.RMSprop(lr=0.00003, rho=0.9, epsilon=1e-08, decay=0.00001), \n",
        "              loss = 'categorical_crossentropy', \n",
        "              metrics = ['acc'])\n",
        "train_datagen = ImageDataGenerator(\n",
        "      rescale=1./255,\n",
        "      rotation_range=20,\n",
        "      width_shift_range=0.2,\n",
        "      height_shift_range=0.2,\n",
        "      horizontal_flip=True,\n",
        "      vertical_flip=True,\n",
        "      fill_mode='nearest'\n",
        ")\n",
        "\n",
        "validation_datagen = ImageDataGenerator(rescale=1./255)\n",
        "# Change the batchsize according to your system RAM\n",
        "train_batchsize = 64\n",
        "val_batchsize = 32\n",
        " \n",
        "train_generator = train_datagen.flow_from_directory(\n",
        "        train_path,\n",
        "        target_size=(150, 150),\n",
        "        batch_size=train_batchsize,\n",
        "        class_mode='categorical')\n",
        " \n",
        "validation_generator = validation_datagen.flow_from_directory(\n",
        "        validation_path,\n",
        "        target_size=(150, 150),\n",
        "        batch_size=val_batchsize,\n",
        "        class_mode='categorical',\n",
        "        shuffle=False)\n",
        "\n",
        "\n",
        "history = model.fit_generator(\n",
        "      train_generator,\n",
        "      steps_per_epoch=train_generator.samples/train_generator.batch_size,\n",
        "      epochs=200,\n",
        "      validation_data=validation_generator,\n",
        "      validation_steps=validation_generator.samples/validation_generator.batch_size,\n",
        "      verbose=1,\n",
        "callbacks=[callback1])"
      ],
      "execution_count": 0,
      "outputs": [
        {
          "output_type": "stream",
          "text": [
            "W0711 01:57:57.447946 139781859743616 deprecation_wrapper.py:119] From /usr/local/lib/python3.6/dist-packages/keras/optimizers.py:790: The name tf.train.Optimizer is deprecated. Please use tf.compat.v1.train.Optimizer instead.\n",
            "\n"
          ],
          "name": "stderr"
        },
        {
          "output_type": "stream",
          "text": [
            "Found 4400 images belonging to 10 classes.\n"
          ],
          "name": "stdout"
        },
        {
          "output_type": "stream",
          "text": [
            "W0711 01:58:10.017091 139781859743616 deprecation.py:323] From /usr/local/lib/python3.6/dist-packages/tensorflow/python/ops/math_grad.py:1250: add_dispatch_support.<locals>.wrapper (from tensorflow.python.ops.array_ops) is deprecated and will be removed in a future version.\n",
            "Instructions for updating:\n",
            "Use tf.where in 2.0, which has the same broadcast rule as np.where\n"
          ],
          "name": "stderr"
        },
        {
          "output_type": "stream",
          "text": [
            "Found 1100 images belonging to 10 classes.\n",
            "Epoch 1/200\n",
            "24/68 [=========>....................] - ETA: 14:08 - loss: 2.3241 - acc: 0.1302"
          ],
          "name": "stdout"
        }
      ]
    },
    {
      "cell_type": "code",
      "metadata": {
        "id": "_-8jluk0iHRZ",
        "colab_type": "code",
        "colab": {}
      },
      "source": [
        "model.save(Base_dir+'beforeVGG19skin_net100.hdf5')\n"
      ],
      "execution_count": 0,
      "outputs": []
    },
    {
      "cell_type": "code",
      "metadata": {
        "id": "hTGXvxHFqTYu",
        "colab_type": "code",
        "colab": {}
      },
      "source": [
        "import matplotlib.pyplot as plt\n",
        "acc = history.history['acc']\n",
        "val_acc = history.history['val_acc']\n",
        "loss = history.history['loss']\n",
        "val_loss = history.history['val_loss']\n",
        "epochs = range(len(acc))\n",
        "plt.plot(epochs, acc, 'r', label='Training accuracy')\n",
        "plt.plot(epochs, val_acc, 'b', label='Validation accuracy')\n",
        "plt.title('Training and validation accuracy before fine tuning')\n",
        "plt.legend(loc=0)\n",
        "plt.savefig(Base_dir+\"vgg19TRAINING_PLOT_FILE.png\", bbox_inches='tight')\n",
        "plt.savefig(Base_dir+\"vgg19TRAINING_PLOT_FILE.png\", bbox_inches='tight')"
      ],
      "execution_count": 0,
      "outputs": []
    },
    {
      "cell_type": "code",
      "metadata": {
        "id": "RmtsuBtkqXQf",
        "colab_type": "code",
        "colab": {}
      },
      "source": [
        "plt.plot(epochs, loss, 'b', label='Training loss')\n",
        "plt.plot(epochs, val_loss, 'r', label='Validation loss')\n",
        "plt.title('Training and validation loss before fine tuning')\n",
        "plt.legend()\n",
        "plt.savefig(Base_dir+\"vgg19VALIDATION_PLOT_FILE.png\", bbox_inches='tight')\n",
        "plt.savefig(Base_dir+\"vgg19VALIDATION_PLOT_FILE.png\", bbox_inches='tight')"
      ],
      "execution_count": 0,
      "outputs": []
    },
    {
      "cell_type": "code",
      "metadata": {
        "id": "T4yauYCHrEHo",
        "colab_type": "code",
        "colab": {}
      },
      "source": [
        "model.summary()"
      ],
      "execution_count": 0,
      "outputs": []
    },
    {
      "cell_type": "code",
      "metadata": {
        "id": "IEv3crRdrd-u",
        "colab_type": "code",
        "colab": {}
      },
      "source": [
        "acc = history.history['acc']\n",
        "val_acc = history.history['val_acc']\n",
        "loss = history.history['loss']\n",
        "val_loss = history.history['val_loss']\n",
        "\n",
        "epochs = range(len(acc))\n",
        "\n",
        "plt.plot(epochs, acc, 'bo', label='Training acc')\n",
        "plt.plot(epochs, val_acc, 'b', label='Validation acc')\n",
        "plt.title('Training and validation accuracy after fine tuning')\n",
        "plt.legend()\n",
        "\n",
        "plt.figure()\n",
        "\n",
        "plt.plot(epochs, loss, 'bo', label='Training loss')\n",
        "plt.plot(epochs, val_loss, 'b', label='Validation loss')\n",
        "plt.title('Training and validation loss')\n",
        "plt.legend()\n",
        "\n",
        "plt.show()"
      ],
      "execution_count": 0,
      "outputs": []
    },
    {
      "cell_type": "code",
      "metadata": {
        "id": "9aTHn994iUdw",
        "colab_type": "code",
        "colab": {}
      },
      "source": [
        "from sklearn.metrics import classification_report, confusion_matrix\n",
        "import numpy as np\n",
        "from keras.models import load_model\n",
        "model1 = load_model(Base_dir+'beforeVGG19skin_net100.hdf5')\n",
        "validation_generator.reset()\n",
        "Y_pred = model1.predict_generator(validation_generator, validation_generator.samples//validation_generator.batch_size+1)\n",
        "y_pred = np.argmax(Y_pred,axis=1)\n",
        "print('Confusion Matrix')\n",
        "print(confusion_matrix(validation_generator.classes, y_pred))\n",
        "print('Classification Report')\n",
        "target_names = [\"Acne-Rosacea\", \"Basal cell carcinoma\",\" Hair Loss Alopecia and other Hair Diseases\",\n",
        "             \" Herpes\",\" Melanoma Skin Cancer Nevi and Moles\",\n",
        "            \" Nail Fungus and other Nail Disease\" , \"Urticaria Hives\",\" Vasculitis\",\" Warts\",\"seborrheic-keratoses\"]\n",
        "print(classification_report(validation_generator.classes, y_pred, target_names=target_names))"
      ],
      "execution_count": 0,
      "outputs": []
    },
    {
      "cell_type": "code",
      "metadata": {
        "id": "JVxNlRYzmT4L",
        "colab_type": "code",
        "colab": {}
      },
      "source": [
        "model.summary()"
      ],
      "execution_count": 0,
      "outputs": []
    },
    {
      "cell_type": "code",
      "metadata": {
        "id": "kTjN-sS9olf9",
        "colab_type": "code",
        "colab": {}
      },
      "source": [
        "pre_trained_model.trainable = True\n",
        "\n",
        "set_trainable = False\n",
        "for layer in pre_trained_model.layers:\n",
        "    if layer.name == 'block5_conv1':\n",
        "        set_trainable = True\n",
        "    if set_trainable:\n",
        "        layer.trainable = True\n",
        "    else:\n",
        "        layer.trainable = False\n",
        "\n"
      ],
      "execution_count": 0,
      "outputs": []
    },
    {
      "cell_type": "code",
      "metadata": {
        "id": "PhuTDVjGsLXR",
        "colab_type": "code",
        "colab": {}
      },
      "source": [
        "model.compile(optimizer = optimizers.RMSprop(lr=0.000003, rho=0.9, epsilon=1e-08, decay=0.00001), \n",
        "              loss = 'categorical_crossentropy', \n",
        "              metrics = ['acc'])"
      ],
      "execution_count": 0,
      "outputs": []
    },
    {
      "cell_type": "code",
      "metadata": {
        "id": "aLr3GhyLPIDF",
        "colab_type": "code",
        "colab": {}
      },
      "source": [
        "model.summary()"
      ],
      "execution_count": 0,
      "outputs": []
    },
    {
      "cell_type": "code",
      "metadata": {
        "id": "-OxvIO4ssdU0",
        "colab_type": "code",
        "colab": {}
      },
      "source": [
        "callback1=myCallback()\n",
        "history = model.fit_generator(\n",
        "      train_generator,\n",
        "      steps_per_epoch=train_generator.samples/train_generator.batch_size,\n",
        "      epochs=200,\n",
        "      validation_data=validation_generator,\n",
        "      validation_steps=validation_generator.samples/validation_generator.batch_size,\n",
        "      verbose=1,\n",
        "callbacks=[callback1])"
      ],
      "execution_count": 0,
      "outputs": []
    },
    {
      "cell_type": "code",
      "metadata": {
        "id": "vhyqOO7e0uCT",
        "colab_type": "code",
        "colab": {}
      },
      "source": [
        "model.save(Base_dir+'VGG19skin_net_after_fineTuningAF.hdf5')\n"
      ],
      "execution_count": 0,
      "outputs": []
    },
    {
      "cell_type": "code",
      "metadata": {
        "id": "uQbEJhH4b9O1",
        "colab_type": "code",
        "colab": {}
      },
      "source": [
        "import matplotlib.pyplot as plt\n",
        "acc = history.history['acc']\n",
        "val_acc = history.history['val_acc']\n",
        "loss = history.history['loss']\n",
        "val_loss = history.history['val_loss']\n",
        "epochs = range(len(acc))\n",
        "plt.plot(epochs, acc, 'r', label='Training accuracy')\n",
        "plt.plot(epochs, val_acc, 'b', label='Validation accuracy')\n",
        "plt.title('Training and validation accuracy after fine Tuning')\n",
        "plt.legend(loc=0)\n",
        "plt.savefig(Base_dir+\"vgg19TRAINING_PLOT_FILE_after_fineTune.png\", bbox_inches='tight')"
      ],
      "execution_count": 0,
      "outputs": []
    },
    {
      "cell_type": "code",
      "metadata": {
        "id": "weEAE0KEbMw_",
        "colab_type": "code",
        "colab": {}
      },
      "source": [
        "plt.plot(epochs, loss, 'b', label='Training loss')\n",
        "plt.plot(epochs, val_loss, 'r', label='Validation loss')\n",
        "plt.title('Training and validation loss after fine Tuning')\n",
        "plt.legend()\n",
        "plt.savefig(Base_dir+\"vgg19VALIDATION_PLOT_FILE_with_finetune.png\", bbox_inches='tight')"
      ],
      "execution_count": 0,
      "outputs": []
    },
    {
      "cell_type": "code",
      "metadata": {
        "id": "NCa7cwCEeI5z",
        "colab_type": "code",
        "colab": {}
      },
      "source": [
        "acc = history.history['acc']\n",
        "val_acc = history.history['val_acc']\n",
        "loss = history.history['loss']\n",
        "val_loss = history.history['val_loss']\n",
        "\n",
        "epochs = range(len(acc))\n",
        "\n",
        "plt.plot(epochs, acc, 'bo', label='Training acc')\n",
        "plt.plot(epochs, val_acc, 'b', label='Validation acc')\n",
        "plt.title('Training and validation accuracy after fine tuning')\n",
        "plt.legend()\n",
        "\n",
        "plt.figure()\n",
        "\n",
        "plt.plot(epochs, loss, 'bo', label='Training loss')\n",
        "plt.plot(epochs, val_loss, 'b', label='Validation loss')\n",
        "plt.title('Training and validation loss after fine tuning')\n",
        "plt.legend()\n",
        "\n",
        "plt.show()"
      ],
      "execution_count": 0,
      "outputs": []
    },
    {
      "cell_type": "code",
      "metadata": {
        "id": "M6SEmGQIx8_w",
        "colab_type": "code",
        "colab": {}
      },
      "source": [
        "from sklearn.metrics import classification_report, confusion_matrix\n",
        "import numpy as np\n",
        "from keras.models import load_model\n",
        "#content/gdrive/My Drive/Skin_Data1/weight1\n",
        "model = load_model(Base_dir+'VGG19skin_net_after_fineTuningAF.hdf5')\n",
        "Y_pred = model.predict_generator(validation_generator, validation_generator.samples//validation_generator.batch_size+1)\n",
        "y_pred = np.argmax(Y_pred, axis=1)\n",
        "print('Confusion Matrix')\n",
        "print(confusion_matrix(validation_generator.classes, y_pred))\n",
        "print('Classification Report')\n",
        "target_names = [\"Acne-Rosacea\", \"Basal cell carcinoma\",\" Hair Loss Alopecia and other Hair Diseases\",\n",
        "             \" Herpes\",\" Melanoma Skin Cancer Nevi and Moles\",\n",
        "            \" Nail Fungus and other Nail Disease\" , \"Urticaria Hives\",\" Vasculitis\",\" Warts\",\"seborrheic-keratoses\"]\n",
        "print(classification_report(validation_generator.classes, y_pred, target_names=target_names))"
      ],
      "execution_count": 0,
      "outputs": []
    },
    {
      "cell_type": "code",
      "metadata": {
        "id": "MCjxnKQKLzrJ",
        "colab_type": "code",
        "colab": {}
      },
      "source": [
        "import pydot\n",
        "from IPython.display import SVG\n",
        "from keras.utils.vis_utils import model_to_dot\n",
        "from keras.utils import plot_model\n",
        "%matplotlib inline\n",
        "plot_model(pre_trained_model, to_file=Base_dir+'model.png')\n",
        "SVG(model_to_dot(pre_trained_model).create(prog='dot', format='svg'))\n"
      ],
      "execution_count": 0,
      "outputs": []
    },
    {
      "cell_type": "code",
      "metadata": {
        "id": "gyQZiD54JMa9",
        "colab_type": "code",
        "colab": {}
      },
      "source": [
        "from keras.models import load_model\n",
        "from google.colab import files\n",
        "from keras.preprocessing import image\n",
        "import numpy as np\n",
        "from matplotlib.pyplot import imshow\n",
        "from keras.applications.imagenet_utils import preprocess_input\n",
        "import scipy.misc\n",
        "\n",
        "model = load_model(Base_dir+'VGG19skin_net_after_fineTuningAF.hdf5')\n",
        "model.compile(optimizer = 'rmsprop', loss = 'categorical_crossentropy', metrics = ['accuracy'])\n",
        "CATEGORIES =[\"Acne-Rosacea\", \"Basal cell carcinoma\",\" Hair Loss Alopecia and other Hair Diseases\",\n",
        "             \" Herpes\",\" Melanoma Skin Cancer Nevi and Moles\",\n",
        "            \" Nail Fungus and other Nail Disease\" , \"Urticaria Hives\",\" Vasculitis\",\" Warts\",\"seborrheic-keratoses\"]\n",
        "uploaded = files.upload()\n",
        "\n",
        "for fn in uploaded.keys():\n",
        " \n",
        "  # predicting images\n",
        "  path = fn\n",
        "  img = image.load_img(path, target_size=(150, 150))\n",
        "  imshow(img)\n",
        "  x = image.img_to_array(img)\n",
        "  x = np.expand_dims(x, axis=0)\n",
        "  x = preprocess_input(x)\n",
        "  #print('Input image shape:', x.shape)\n",
        "  \n",
        "  images = np.vstack([x])\n",
        "  classes = model.predict(images)#, batch_size=10)\n",
        "  #print(fn)\n",
        "  \n",
        "  print(classes[0])\n",
        "  maximum=0.9\n",
        "  for i,value in enumerate(classes[0]):\n",
        "    if value>maximum:\n",
        "      index=i\n",
        "  print(\"The predicted disease found to be \"+CATEGORIES[index]) \n",
        "  #print(type(CATEGORIES[int(classes[0][0])]))  \n",
        "  \n",
        " "
      ],
      "execution_count": 0,
      "outputs": []
    }
  ]
}